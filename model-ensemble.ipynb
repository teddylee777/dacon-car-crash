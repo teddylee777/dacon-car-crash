{
 "cells": [
  {
   "cell_type": "code",
   "execution_count": 571,
   "id": "003816c0",
   "metadata": {},
   "outputs": [],
   "source": [
    "import pickle\n",
    "import glob\n",
    "import pandas as pd\n",
    "import numpy as np\n",
    "import matplotlib.pyplot as plt\n",
    "import os\n",
    "from datetime import datetime\n",
    "\n",
    "DATA_DIR = 'data'\n",
    "SUBMISSION_DIR = 'submit'\n",
    "PICKLE_DIR = 'pickle'\n",
    "SUBMIT_FILENAME = 'submit-04-V1'"
   ]
  },
  {
   "cell_type": "code",
   "execution_count": 572,
   "id": "c381e199",
   "metadata": {},
   "outputs": [],
   "source": [
    "def load_pickle(filename):\n",
    "    with open(filename,'rb') as f:\n",
    "         data = pickle.load(f)\n",
    "    return data"
   ]
  },
  {
   "cell_type": "code",
   "execution_count": 196,
   "id": "42266dc5",
   "metadata": {
    "scrolled": false
   },
   "outputs": [
    {
     "data": {
      "text/plain": [
       "['pickle/CRASH-r2plus1d_18-heavy-model-cnn-255x255-frameskip-2-batch-4-seed-0-0.00011-f1-1.00000.pkl',\n",
       " 'pickle/CRASH-r2plus1d_18-heavy-model-cnn-255x255-frameskip-2-batch-4-seed-10-0.00002-f1-1.00000.pkl',\n",
       " 'pickle/CRASH-r2plus1d_18-resize-crop-model-cnn-112x112-fs-2-batch-4-seed-546-kfold-1-0.00047-f1-1.00000.pkl',\n",
       " 'pickle/Crash-Cls-Model-0.00106.pkl',\n",
       " 'pickle/Crash-Cls-Model-SEED-321-0.00106.pkl',\n",
       " 'pickle/Crash-Cls-Model-SEED-345-0.00134.pkl',\n",
       " 'pickle/EGO-r2plus1d_18-resize-crop-model-cnn-112x112-frameskip-2-batch-4-seed-0-kfold-1-0.00008-f1-1.00000.pkl',\n",
       " 'pickle/EGO-r2plus1d_18-resize-crop-model-cnn-112x112-fs-3-batch-8-seed-967-kfold-1-0.07632-f1-0.90846.pkl',\n",
       " 'pickle/EGO-r2plus1d_18-resize-crop-model-cnn-224x224-fs-3-batch-8-seed-60-kfold-1-0.07919-f1-0.90648.pkl',\n",
       " 'pickle/EGO-r2plus1d_18-resize-crop-xval-model-cnn-112x112-fs-3-batch-8-seed-452-kfold-1-0.08180-f1-0.90312.pkl',\n",
       " 'pickle/EGO-tmp_model_default-model-cnn-112x112-frameskip-2-batch-4-seed-0-kfold-1-0.00000-f1-1.00000.pkl',\n",
       " 'pickle/EWT-Model-r2plus1d_18-256x256-cuda0-SEED-567-0.11363.pkl',\n",
       " 'pickle/EWT-Model-r2plus1d_18-256x256-cuda0-SEED-567-0.11494.pkl',\n",
       " 'pickle/EWT-Model-r2plus1d_18-SNOWY-240x320-cuda1-SEED-345-0.10904.pkl',\n",
       " 'pickle/EWT-Model-r2plus1d_18-SNOWY-256x256-cuda1-SEED-345-0.13143.pkl',\n",
       " 'pickle/EWT-Model-r2plus1d_18-SNOWY-256x256-cuda1-SEED-345-0.13723.pkl',\n",
       " 'pickle/EWT-Model-slow_r50-SNOWY-256x256-SEED-345-0.15758.pkl',\n",
       " 'pickle/Ego-Classifier-V1-r2plus1d_18-255x255-cuda0-SEED-567-0.07404.pkl',\n",
       " 'pickle/Ego-Weather-Timing-Model-DAY-SEED-123-0.11053.pkl',\n",
       " 'pickle/Ego-Weather-Timing-Model-RAINY-SEED-345-0.11090.pkl',\n",
       " 'pickle/TIMING-Classifier-V1-slow_r50-255x255-frameskip-1-batch-8-seed-135-epoch-3-loss-0.07839-f1-0.92541.pkl',\n",
       " 'pickle/TIMING-r2plus1d_18-heavy-model-cnn-255x255-frameskip-2-batch-4-seed-10-0.01495-f1-0.90054.pkl',\n",
       " 'pickle/TIMING-r2plus1d_18-resize-crop-model-cnn-112x112-frameskip-2-batch-4-seed-0-kfold-1-0.00008-f1-1.00000.pkl',\n",
       " 'pickle/TIMING-r2plus1d_18-resize-crop-model-cnn-112x112-fs-3-batch-8-seed-222-kfold-1-0.11754-f1-0.90921.pkl',\n",
       " 'pickle/TIMING-r2plus1d_18-resize-crop-model-cnn-112x112-fs-3-batch-8-seed-738-kfold-1-0.10456-f1-0.91360.pkl',\n",
       " 'pickle/TIMING-tmp_model_default-model-cnn-112x112-frameskip-2-batch-4-seed-0-kfold-1-0.00173-f1-1.00000.pkl',\n",
       " 'pickle/Timing-Classifier-V1-r2plus1d_18-255x255-cuda0-SEED-567-0.00935.pkl',\n",
       " 'pickle/WEATHER-r2plus1d_18-heavy-v2-model-cnn-255x255-frameskip-2-batch-4-seed-30-0.28146-f1-0.75429.pkl',\n",
       " 'pickle/WEATHER-r2plus1d_18-model-cnn-255x255-frameskip-2-batch-4-seed-0-0.31813-f1-0.75749.pkl',\n",
       " 'pickle/WEATHER-r2plus1d_18-resize-crop-model-can-112x112-frameskip-2-batch-4-seed-0-0.00059-f1-1.00000.pkl',\n",
       " 'pickle/WEATHER-r2plus1d_18-resize-crop-model-cnn-112x112-fs-3-batch-8-seed-281-kfold-1-0.54456-f1-0.75811.pkl',\n",
       " 'pickle/WEATHER-r2plus1d_18-resize-crop-model-cnn-180x320-frameskip-2-batch-4-seed-0-0.25888-f1-0.76161.pkl',\n",
       " 'pickle/WEATHER-r2plus1d_18-resize-crop-model-cnn-180x320-frameskip-3-batch-4-seed-0-0.42833-f1-0.73115.pkl',\n",
       " 'pickle/WEATHER-r2plus1d_18-resize-crop-model-cnn-255x255-frameskip-3-batch-4-seed-0-0.19658-f1-0.73201.pkl',\n",
       " 'pickle/WEATHER-r2plus1d_18-resize-crop-model-cnn-255x255-frameskip-3-batch-4-seed-0-0.42833-f1-0.73115.pkl',\n",
       " 'pickle/WEATHER-r2plus1d_18-resize-crop-xval-model-cnn-112x112-fs-3-batch-8-seed-204-kfold-1-0.71189-f1-0.72076.pkl',\n",
       " 'pickle/WEATHER-r2plus1d_18-resize-crop-xval-model-cnn-112x112-fs-3-batch-8-seed-224-kfold-1-0.57961-f1-0.72420.pkl',\n",
       " 'pickle/WEATHER-r2plus1d_18-resize-crop-xval-model-cnn-224x224-fs-3-batch-8-seed-235-kfold-1-0.61285-f1-0.77272.pkl',\n",
       " 'pickle/WEATHER-r3d_18-model-cnn-255x255-frameskip-2-batch-4-seed-30-0.40446-f1-0.73345.pkl',\n",
       " 'pickle/WEATHER-x3d_m-model-cnn-255x255-frameskip-1-batch-4-seed-30-0.49791-f1-0.73461.pkl',\n",
       " 'pickle/WEATHER-x3d_m-resize-crop-xval-model-cnn-224x224-fs-3-batch-8-seed-106-kfold-1-0.62130-f1-0.76370.pkl',\n",
       " 'pickle/WEATHER-x3d_m-resize-crop-xval-model-cnn-224x224-fs-3-batch-8-seed-543-kfold-1-0.62298-f1-0.73437.pkl',\n",
       " 'pickle/Weather-Classifier-V1-r2plus1d_18-255x255-cuda1-SEED-567-0.03753.pkl',\n",
       " 'pickle/[XVAL]CRASH-r2plus1d_18-model-cnn-112x112-fs-3-batch-8-seed-720-kfold-1-0.00087-f1-0.99897.pkl',\n",
       " 'pickle/[XVAL]CRASH-r2plus1d_18-model-cnn-224x224-fs-2-batch-4-seed-817-kfold-1-0.00809-f1-1.00000.pkl',\n",
       " 'pickle/[XVAL]CRASH-r2plus1d_18-model-cnn-224x224-fs-3-batch-4-seed-734-kfold-1-0.00830-f1-0.99948.pkl',\n",
       " 'pickle/[XVAL]CRASH-rnn-model-cnn-112x112-fs-3-batch-8-seed-373-kfold-1-0.05529-f1-0.85702.pkl',\n",
       " 'pickle/[XVAL]CRASH-rnn-model-cnn-112x112-fs-3-batch-8-seed-429-kfold-1-0.10619-f1-0.84879.pkl',\n",
       " 'pickle/[XVAL]CRASH-rnn-model-cnn-112x112-fs-3-batch-8-seed-618-kfold-1-0.05419-f1-0.85300.pkl',\n",
       " 'pickle/[XVAL]CRASH-rnn-model-cnn-112x112-fs-3-batch-8-seed-742-kfold-1-0.05136-f1-0.85214.pkl',\n",
       " 'pickle/[XVAL]CRASH-rnn-model-cnn-112x112-fs-3-batch-8-seed-866-kfold-1-0.05269-f1-0.85566.pkl',\n",
       " 'pickle/[XVAL]CRASH-rnn-model-cnn-224x224-fs-3-batch-4-seed-324-kfold-1-0.06332-f1-0.92192.pkl',\n",
       " 'pickle/[XVAL]CRASH-rnn-model-cnn-224x224-fs-3-batch-4-seed-480-kfold-1-0.04293-f1-0.90087.pkl',\n",
       " 'pickle/[XVAL]CRASH-rnn-model-cnn-224x224-fs-3-batch-4-seed-69-kfold-1-0.07156-f1-0.91063.pkl',\n",
       " 'pickle/[XVAL]CRASH-rnn-model-cnn-224x224-fs-3-batch-4-seed-844-kfold-1-0.06715-f1-0.92322.pkl',\n",
       " 'pickle/[XVAL]CRASH-rnn-model-cnn-224x224-fs-3-batch-4-seed-988-kfold-1-0.03257-f1-0.92683.pkl',\n",
       " 'pickle/[XVAL]CRASH-rnn-model-cnn-224x224-fs-3-batch-8-seed-424-kfold-1-0.03034-f1-0.92523.pkl',\n",
       " 'pickle/[XVAL]CRASH-rnn-model-cnn-224x224-fs-3-batch-8-seed-490-kfold-1-0.06192-f1-0.91767.pkl',\n",
       " 'pickle/[XVAL]CRASH-rnn-model-cnn-224x224-fs-3-batch-8-seed-502-kfold-1-0.02992-f1-0.93507.pkl',\n",
       " 'pickle/[XVAL]CRASH-rnn-model-cnn-224x224-fs-3-batch-8-seed-633-kfold-1-0.02928-f1-0.92606.pkl',\n",
       " 'pickle/[XVAL]CRASH-rnn-model-cnn-224x224-fs-3-batch-8-seed-650-kfold-1-0.09901-f1-0.89301.pkl',\n",
       " 'pickle/[XVAL]CRASH-rnn-model-cnn-224x224-fs-3-batch-8-seed-826-kfold-1-0.05293-f1-0.93833.pkl',\n",
       " 'pickle/[XVAL]CRASH-rnn-model-cnn-224x224-fs-3-batch-8-seed-826-kfold-1-0.07112-f1-0.91398.pkl',\n",
       " 'pickle/[XVAL]CRASH-rnn-model-cnn-224x224-fs-3-batch-8-seed-869-kfold-1-0.02912-f1-0.94123.pkl',\n",
       " 'pickle/[XVAL]CRASH-rnn-model-cnn-224x224-fs-3-batch-8-seed-961-kfold-1-0.06031-f1-0.92788.pkl',\n",
       " 'pickle/[XVAL]CRASH-rnn-model-rnn-112x112-fs-3-batch-4-seed-262-kfold-1-0.11665-f1-0.85596.pkl',\n",
       " 'pickle/[XVAL]CRASH-rnn-model-rnn-112x112-fs-3-batch-4-seed-694-kfold-1-0.11764-f1-0.85258.pkl',\n",
       " 'pickle/[XVAL]CRASH-x3d_m-model-cnn-224x224-fs-3-batch-4-seed-165-kfold-1-0.00973-f1-0.99637.pkl',\n",
       " 'pickle/[XVAL]CRASH-x3d_m-model-cnn-224x224-fs-3-batch-4-seed-187-kfold-1-0.03288-f1-0.99534.pkl',\n",
       " 'pickle/[XVAL]CRASH-x3d_m-model-cnn-224x224-fs-3-batch-4-seed-553-kfold-1-0.00899-f1-0.99845.pkl',\n",
       " 'pickle/[XVAL]CRASH-x3d_m-model-cnn-224x224-fs-3-batch-8-seed-127-kfold-1-0.03260-f1-0.99482.pkl',\n",
       " 'pickle/[XVAL]CRASH-x3d_m-model-cnn-224x224-fs-3-batch-8-seed-759-kfold-1-0.03218-f1-0.99690.pkl',\n",
       " 'pickle/[XVAL]CRASH-x3d_m-model-cnn-224x224-fs-3-batch-8-seed-789-kfold-1-0.03544-f1-0.99221.pkl',\n",
       " 'pickle/[XVAL]EGO-r2plus1d_18-model-cnn-112x112-fs-2-batch-4-seed-959-kfold-1-0.09168-f1-0.88315.pkl',\n",
       " 'pickle/[XVAL]EGO-r2plus1d_18-model-cnn-112x112-fs-2-batch-8-seed-611-kfold-1-0.04282-f1-0.89706.pkl',\n",
       " 'pickle/[XVAL]EGO-r2plus1d_18-model-cnn-112x112-fs-2-batch-8-seed-640-kfold-1-0.04259-f1-0.90511.pkl',\n",
       " 'pickle/[XVAL]EGO-r2plus1d_18-model-cnn-224x224-fs-2-batch-4-seed-449-kfold-1-0.04482-f1-0.88902.pkl',\n",
       " 'pickle/[XVAL]EGO-r2plus1d_18-model-cnn-224x224-fs-5-batch-4-seed-734-kfold-1-0.08967-f1-0.89015.pkl',\n",
       " 'pickle/[XVAL]EGO-rnn-model-cnn-112x112-fs-2-batch-8-seed-582-kfold-1-0.07640-f1-0.72385.pkl',\n",
       " 'pickle/[XVAL]EGO-rnn-model-cnn-112x112-fs-2-batch-8-seed-635-kfold-1-0.15326-f1-0.74587.pkl',\n",
       " 'pickle/[XVAL]EGO-rnn-model-cnn-112x112-fs-3-batch-4-seed-488-kfold-1-0.15491-f1-0.72486.pkl',\n",
       " 'pickle/[XVAL]EGO-rnn-model-cnn-112x112-fs-3-batch-4-seed-789-kfold-1-0.15530-f1-0.75543.pkl',\n",
       " 'pickle/[XVAL]EGO-rnn-model-cnn-112x112-fs-3-batch-4-seed-971-kfold-1-0.15674-f1-0.74070.pkl',\n",
       " 'pickle/[XVAL]EGO-rnn-model-cnn-224x224-fs-2-batch-4-seed-144-kfold-1-0.06952-f1-0.75636.pkl',\n",
       " 'pickle/[XVAL]EGO-rnn-model-cnn-224x224-fs-2-batch-4-seed-30-kfold-1-0.07581-f1-0.72969.pkl',\n",
       " 'pickle/[XVAL]EGO-rnn-model-cnn-224x224-fs-2-batch-4-seed-525-kfold-1-0.07692-f1-0.74209.pkl',\n",
       " 'pickle/[XVAL]EGO-rnn-model-cnn-224x224-fs-2-batch-4-seed-900-kfold-1-0.07482-f1-0.76116.pkl',\n",
       " 'pickle/[XVAL]EGO-rnn-model-cnn-224x224-fs-2-batch-4-seed-909-kfold-1-0.14625-f1-0.74490.pkl',\n",
       " 'pickle/[XVAL]EGO-rnn-model-cnn-224x224-fs-3-batch-4-seed-211-kfold-1-0.15561-f1-0.74457.pkl',\n",
       " 'pickle/[XVAL]EGO-rnn-model-cnn-224x224-fs-3-batch-4-seed-237-kfold-1-0.15339-f1-0.72872.pkl',\n",
       " 'pickle/[XVAL]EGO-rnn-model-cnn-224x224-fs-3-batch-4-seed-655-kfold-1-0.14754-f1-0.73428.pkl',\n",
       " 'pickle/[XVAL]EGO-rnn-model-cnn-224x224-fs-3-batch-4-seed-771-kfold-1-0.07738-f1-0.72519.pkl',\n",
       " 'pickle/[XVAL]EGO-rnn-model-cnn-224x224-fs-3-batch-8-seed-235-kfold-1-0.13805-f1-0.75513.pkl',\n",
       " 'pickle/[XVAL]EGO-rnn-model-cnn-224x224-fs-3-batch-8-seed-386-kfold-1-0.07675-f1-0.72852.pkl',\n",
       " 'pickle/[XVAL]EGO-rnn-model-rnn-224x224-fs-3-batch-4-seed-888-kfold-1-0.14016-f1-0.78164.pkl',\n",
       " 'pickle/[XVAL]EGO-x3d_m-model-cnn-224x224-fs-2-batch-4-seed-394-kfold-1-0.04222-f1-0.91201.pkl',\n",
       " 'pickle/[XVAL]EGO-x3d_m-model-cnn-224x224-fs-2-batch-4-seed-886-kfold-1-0.09032-f1-0.87531.pkl',\n",
       " 'pickle/[XVAL]EGO-x3d_m-model-cnn-224x224-fs-2-batch-8-seed-192-kfold-1-0.05503-f1-0.84112.pkl',\n",
       " 'pickle/[XVAL]EGO-x3d_m-model-cnn-224x224-fs-2-batch-8-seed-357-kfold-1-0.05509-f1-0.84215.pkl',\n",
       " 'pickle/[XVAL]EGO-x3d_m-model-cnn-224x224-fs-2-batch-8-seed-787-kfold-1-0.05264-f1-0.86975.pkl',\n",
       " 'pickle/[XVAL]EGO-x3d_m-model-cnn-224x224-fs-3-batch-4-seed-111-kfold-1-0.04236-f1-0.89437.pkl',\n",
       " 'pickle/[XVAL]EGO-x3d_m-model-cnn-224x224-fs-3-batch-4-seed-20-kfold-1-0.04505-f1-0.87805.pkl',\n",
       " 'pickle/[XVAL]EGO-x3d_m-model-cnn-224x224-fs-3-batch-4-seed-287-kfold-1-0.08789-f1-0.89273.pkl',\n",
       " 'pickle/[XVAL]EGO-x3d_m-model-cnn-224x224-fs-3-batch-4-seed-47-kfold-1-0.08682-f1-0.87738.pkl',\n",
       " 'pickle/[XVAL]EGO-x3d_m-model-cnn-224x224-fs-3-batch-4-seed-548-kfold-1-0.09613-f1-0.85742.pkl',\n",
       " 'pickle/[XVAL]EGO-x3d_m-model-cnn-224x224-fs-3-batch-4-seed-698-kfold-1-0.05219-f1-0.85542.pkl',\n",
       " 'pickle/[XVAL]EGO-x3d_m-model-cnn-224x224-fs-3-batch-4-seed-914-kfold-1-0.04632-f1-0.88879.pkl',\n",
       " 'pickle/[XVAL]EGO-x3d_m-model-cnn-224x224-fs-3-batch-4-seed-942-kfold-1-0.04805-f1-0.87811.pkl',\n",
       " 'pickle/[XVAL]EGO-x3d_m-model-cnn-224x224-fs-3-batch-4-seed-942-kfold-1-0.08824-f1-0.88455.pkl',\n",
       " 'pickle/[XVAL]EGO-x3d_m-model-cnn-224x224-fs-3-batch-4-seed-957-kfold-1-0.09912-f1-0.84772.pkl',\n",
       " 'pickle/[XVAL]EGO-x3d_m-model-cnn-224x224-fs-3-batch-8-seed-121-kfold-1-0.09497-f1-0.87399.pkl',\n",
       " 'pickle/[XVAL]EGO-x3d_m-model-cnn-224x224-fs-3-batch-8-seed-293-kfold-1-0.04929-f1-0.86069.pkl',\n",
       " 'pickle/[XVAL]EGO-x3d_m-model-cnn-224x224-fs-3-batch-8-seed-506-kfold-1-0.08515-f1-0.89978.pkl',\n",
       " 'pickle/[XVAL]EGO-x3d_m-model-cnn-224x224-fs-3-batch-8-seed-566-kfold-1-0.05253-f1-0.85468.pkl',\n",
       " 'pickle/[XVAL]EGO-x3d_m-model-cnn-224x224-fs-3-batch-8-seed-61-kfold-1-0.08227-f1-0.90514.pkl',\n",
       " 'pickle/[XVAL]EGO-x3d_m-model-cnn-224x224-fs-3-batch-8-seed-691-kfold-1-0.04821-f1-0.88190.pkl',\n",
       " 'pickle/[XVAL]TIMING-r2plus1d_18-model-cnn-112x112-fs-3-batch-4-seed-124-kfold-1-0.10671-f1-0.91850.pkl',\n",
       " 'pickle/[XVAL]TIMING-r2plus1d_18-model-cnn-112x112-fs-3-batch-8-seed-110-kfold-1-0.05525-f1-0.91830.pkl',\n",
       " 'pickle/[XVAL]TIMING-r2plus1d_18-model-cnn-112x112-fs-3-batch-8-seed-186-kfold-1-0.05048-f1-0.90488.pkl',\n",
       " 'pickle/[XVAL]TIMING-r2plus1d_18-model-cnn-112x112-fs-3-batch-8-seed-433-kfold-1-0.11187-f1-0.90563.pkl',\n",
       " 'pickle/[XVAL]TIMING-r2plus1d_18-model-cnn-112x112-fs-3-batch-8-seed-479-kfold-1-0.11920-f1-0.91515.pkl',\n",
       " 'pickle/[XVAL]TIMING-r2plus1d_18-model-cnn-112x112-fs-3-batch-8-seed-556-kfold-1-0.05055-f1-0.92142.pkl',\n",
       " 'pickle/[XVAL]TIMING-r2plus1d_18-model-cnn-112x112-fs-3-batch-8-seed-930-kfold-1-0.02393-f1-0.91935.pkl',\n",
       " 'pickle/[XVAL]TIMING-r2plus1d_18-model-cnn-224x224-fs-3-batch-4-seed-887-kfold-1-0.10717-f1-0.90031.pkl',\n",
       " 'pickle/[XVAL]TIMING-x3d_m-model-cnn-224x224-fs-3-batch-4-seed-19-kfold-1-0.09092-f1-0.91044.pkl',\n",
       " 'pickle/[XVAL]TIMING-x3d_m-model-cnn-224x224-fs-3-batch-4-seed-284-kfold-1-0.04803-f1-0.89166.pkl',\n",
       " 'pickle/[XVAL]TIMING-x3d_m-model-cnn-224x224-fs-3-batch-4-seed-418-kfold-1-0.10427-f1-0.89805.pkl',\n",
       " 'pickle/[XVAL]TIMING-x3d_m-model-cnn-224x224-fs-3-batch-4-seed-521-kfold-1-0.10432-f1-0.90661.pkl',\n",
       " 'pickle/[XVAL]TIMING-x3d_m-model-cnn-224x224-fs-3-batch-4-seed-542-kfold-1-0.04894-f1-0.90511.pkl',\n",
       " 'pickle/[XVAL]TIMING-x3d_m-model-cnn-224x224-fs-3-batch-4-seed-558-kfold-1-0.04227-f1-0.91237.pkl',\n",
       " 'pickle/[XVAL]TIMING-x3d_m-model-cnn-224x224-fs-3-batch-4-seed-611-kfold-1-0.06588-f1-0.90989.pkl',\n",
       " 'pickle/[XVAL]TIMING-x3d_m-model-cnn-224x224-fs-3-batch-4-seed-648-kfold-1-0.05665-f1-0.89037.pkl',\n",
       " 'pickle/[XVAL]TIMING-x3d_m-model-cnn-224x224-fs-3-batch-4-seed-761-kfold-1-0.05394-f1-0.90814.pkl',\n",
       " 'pickle/[XVAL]TIMING-x3d_m-model-cnn-224x224-fs-3-batch-4-seed-901-kfold-1-0.05138-f1-0.89619.pkl',\n",
       " 'pickle/[XVAL]TIMING-x3d_m-model-cnn-224x224-fs-3-batch-4-seed-901-kfold-1-0.06253-f1-0.90800.pkl',\n",
       " 'pickle/[XVAL]TIMING-x3d_m-model-cnn-224x224-fs-3-batch-8-seed-271-kfold-1-0.10481-f1-0.90186.pkl',\n",
       " 'pickle/[XVAL]TIMING-x3d_m-model-cnn-224x224-fs-3-batch-8-seed-294-kfold-1-0.05222-f1-0.90244.pkl',\n",
       " 'pickle/[XVAL]TIMING-x3d_m-model-cnn-224x224-fs-3-batch-8-seed-432-kfold-1-0.11165-f1-0.91163.pkl',\n",
       " 'pickle/[XVAL]TIMING-x3d_m-model-cnn-224x224-fs-3-batch-8-seed-433-kfold-1-0.06543-f1-0.89656.pkl',\n",
       " 'pickle/[XVAL]TIMING-x3d_m-model-cnn-224x224-fs-3-batch-8-seed-444-kfold-1-0.10311-f1-0.92963.pkl',\n",
       " 'pickle/[XVAL]TIMING-x3d_m-model-cnn-224x224-fs-3-batch-8-seed-480-kfold-1-0.05005-f1-0.91551.pkl',\n",
       " 'pickle/[XVAL]TIMING-x3d_m-model-cnn-224x224-fs-3-batch-8-seed-490-kfold-1-0.04836-f1-0.90886.pkl',\n",
       " 'pickle/[XVAL]TIMING-x3d_m-model-cnn-224x224-fs-3-batch-8-seed-6-kfold-1-0.05265-f1-0.92835.pkl',\n",
       " 'pickle/[XVAL]TIMING-x3d_m-model-cnn-224x224-fs-3-batch-8-seed-768-kfold-1-0.04821-f1-0.89372.pkl',\n",
       " 'pickle/[XVAL]TIMING-x3d_m-model-cnn-224x224-fs-3-batch-8-seed-789-kfold-1-0.05293-f1-0.92858.pkl',\n",
       " 'pickle/[XVAL]TIMING-x3d_m-model-cnn-224x224-fs-3-batch-8-seed-853-kfold-1-0.11027-f1-0.92667.pkl',\n",
       " 'pickle/[XVAL]TIMING-x3d_m-model-cnn-224x224-fs-3-batch-8-seed-893-kfold-1-0.06224-f1-0.92355.pkl',\n",
       " 'pickle/[XVAL]TIMING-x3d_m-model-cnn-224x224-fs-3-batch-8-seed-961-kfold-1-0.05418-f1-0.91396.pkl',\n",
       " 'pickle/[XVAL]WEATHER-r2plus1d_18-model-cnn-112x112-fs-3-batch-4-seed-112-kfold-1-0.63973-f1-0.69854.pkl',\n",
       " 'pickle/[XVAL]WEATHER-r2plus1d_18-model-cnn-112x112-fs-3-batch-4-seed-122-kfold-1-0.47553-f1-0.66482.pkl',\n",
       " 'pickle/[XVAL]WEATHER-r2plus1d_18-model-cnn-112x112-fs-3-batch-4-seed-125-kfold-1-0.68733-f1-0.63388.pkl',\n",
       " 'pickle/[XVAL]WEATHER-r2plus1d_18-model-cnn-112x112-fs-3-batch-4-seed-125-kfold-1-0.75412-f1-0.67578.pkl',\n",
       " 'pickle/[XVAL]WEATHER-r2plus1d_18-model-cnn-112x112-fs-3-batch-4-seed-160-kfold-1-0.48734-f1-0.61656.pkl',\n",
       " 'pickle/[XVAL]WEATHER-r2plus1d_18-model-cnn-112x112-fs-3-batch-4-seed-160-kfold-1-0.50310-f1-0.65455.pkl',\n",
       " 'pickle/[XVAL]WEATHER-r2plus1d_18-model-cnn-112x112-fs-3-batch-4-seed-160-kfold-1-0.59688-f1-0.57594.pkl',\n",
       " 'pickle/[XVAL]WEATHER-r2plus1d_18-model-cnn-112x112-fs-3-batch-4-seed-161-kfold-1-0.44886-f1-0.69944.pkl',\n",
       " 'pickle/[XVAL]WEATHER-r2plus1d_18-model-cnn-112x112-fs-3-batch-4-seed-185-kfold-1-0.45970-f1-0.62430.pkl',\n",
       " 'pickle/[XVAL]WEATHER-r2plus1d_18-model-cnn-112x112-fs-3-batch-4-seed-217-kfold-1-0.44918-f1-0.62295.pkl',\n",
       " 'pickle/[XVAL]WEATHER-r2plus1d_18-model-cnn-112x112-fs-3-batch-4-seed-226-kfold-1-0.51863-f1-0.63087.pkl',\n",
       " 'pickle/[XVAL]WEATHER-r2plus1d_18-model-cnn-112x112-fs-3-batch-4-seed-235-kfold-1-0.41059-f1-0.70845.pkl',\n",
       " 'pickle/[XVAL]WEATHER-r2plus1d_18-model-cnn-112x112-fs-3-batch-4-seed-244-kfold-1-0.53123-f1-0.58834.pkl',\n",
       " 'pickle/[XVAL]WEATHER-r2plus1d_18-model-cnn-112x112-fs-3-batch-4-seed-255-kfold-1-0.41068-f1-0.58016.pkl',\n",
       " 'pickle/[XVAL]WEATHER-r2plus1d_18-model-cnn-112x112-fs-3-batch-4-seed-261-kfold-1-0.53121-f1-0.64517.pkl',\n",
       " 'pickle/[XVAL]WEATHER-r2plus1d_18-model-cnn-112x112-fs-3-batch-4-seed-262-kfold-1-0.80917-f1-0.61189.pkl',\n",
       " 'pickle/[XVAL]WEATHER-r2plus1d_18-model-cnn-112x112-fs-3-batch-4-seed-267-kfold-1-0.48607-f1-0.66179.pkl',\n",
       " 'pickle/[XVAL]WEATHER-r2plus1d_18-model-cnn-112x112-fs-3-batch-4-seed-281-kfold-1-0.72030-f1-0.67697.pkl',\n",
       " 'pickle/[XVAL]WEATHER-r2plus1d_18-model-cnn-112x112-fs-3-batch-4-seed-29-kfold-1-0.68163-f1-0.67518.pkl',\n",
       " 'pickle/[XVAL]WEATHER-r2plus1d_18-model-cnn-112x112-fs-3-batch-4-seed-297-kfold-1-0.41595-f1-0.69678.pkl',\n",
       " 'pickle/[XVAL]WEATHER-r2plus1d_18-model-cnn-112x112-fs-3-batch-4-seed-307-kfold-1-0.50037-f1-0.65682.pkl',\n",
       " 'pickle/[XVAL]WEATHER-r2plus1d_18-model-cnn-112x112-fs-3-batch-4-seed-332-kfold-1-0.53692-f1-0.66095.pkl',\n",
       " 'pickle/[XVAL]WEATHER-r2plus1d_18-model-cnn-112x112-fs-3-batch-4-seed-336-kfold-1-0.47088-f1-0.67103.pkl',\n",
       " 'pickle/[XVAL]WEATHER-r2plus1d_18-model-cnn-112x112-fs-3-batch-4-seed-374-kfold-1-0.80031-f1-0.57909.pkl',\n",
       " 'pickle/[XVAL]WEATHER-r2plus1d_18-model-cnn-112x112-fs-3-batch-4-seed-414-kfold-1-0.69076-f1-0.69342.pkl',\n",
       " 'pickle/[XVAL]WEATHER-r2plus1d_18-model-cnn-112x112-fs-3-batch-4-seed-429-kfold-1-0.48471-f1-0.66154.pkl',\n",
       " 'pickle/[XVAL]WEATHER-r2plus1d_18-model-cnn-112x112-fs-3-batch-4-seed-460-kfold-1-0.65984-f1-0.71647.pkl',\n",
       " 'pickle/[XVAL]WEATHER-r2plus1d_18-model-cnn-112x112-fs-3-batch-4-seed-462-kfold-1-0.74363-f1-0.69505.pkl',\n",
       " 'pickle/[XVAL]WEATHER-r2plus1d_18-model-cnn-112x112-fs-3-batch-4-seed-47-kfold-1-0.49916-f1-0.65173.pkl',\n",
       " 'pickle/[XVAL]WEATHER-r2plus1d_18-model-cnn-112x112-fs-3-batch-4-seed-493-kfold-1-0.77551-f1-0.64407.pkl',\n",
       " 'pickle/[XVAL]WEATHER-r2plus1d_18-model-cnn-112x112-fs-3-batch-4-seed-508-kfold-1-0.43657-f1-0.65468.pkl',\n",
       " 'pickle/[XVAL]WEATHER-r2plus1d_18-model-cnn-112x112-fs-3-batch-4-seed-513-kfold-1-0.45101-f1-0.68382.pkl',\n",
       " 'pickle/[XVAL]WEATHER-r2plus1d_18-model-cnn-112x112-fs-3-batch-4-seed-541-kfold-1-0.50889-f1-0.66790.pkl',\n",
       " 'pickle/[XVAL]WEATHER-r2plus1d_18-model-cnn-112x112-fs-3-batch-4-seed-576-kfold-1-0.54538-f1-0.61315.pkl',\n",
       " 'pickle/[XVAL]WEATHER-r2plus1d_18-model-cnn-112x112-fs-3-batch-4-seed-583-kfold-1-0.65156-f1-0.70202.pkl',\n",
       " 'pickle/[XVAL]WEATHER-r2plus1d_18-model-cnn-112x112-fs-3-batch-4-seed-590-kfold-1-0.86963-f1-0.59645.pkl',\n",
       " 'pickle/[XVAL]WEATHER-r2plus1d_18-model-cnn-112x112-fs-3-batch-4-seed-61-kfold-1-0.48642-f1-0.68607.pkl',\n",
       " 'pickle/[XVAL]WEATHER-r2plus1d_18-model-cnn-112x112-fs-3-batch-4-seed-63-kfold-1-0.83507-f1-0.57305.pkl',\n",
       " 'pickle/[XVAL]WEATHER-r2plus1d_18-model-cnn-112x112-fs-3-batch-4-seed-650-kfold-1-0.50820-f1-0.66484.pkl',\n",
       " 'pickle/[XVAL]WEATHER-r2plus1d_18-model-cnn-112x112-fs-3-batch-4-seed-653-kfold-1-0.44581-f1-0.71517.pkl',\n",
       " 'pickle/[XVAL]WEATHER-r2plus1d_18-model-cnn-112x112-fs-3-batch-4-seed-67-kfold-1-0.45570-f1-0.67815.pkl',\n",
       " 'pickle/[XVAL]WEATHER-r2plus1d_18-model-cnn-112x112-fs-3-batch-4-seed-697-kfold-1-0.79687-f1-0.59657.pkl',\n",
       " 'pickle/[XVAL]WEATHER-r2plus1d_18-model-cnn-112x112-fs-3-batch-4-seed-70-kfold-1-0.69995-f1-0.66824.pkl',\n",
       " 'pickle/[XVAL]WEATHER-r2plus1d_18-model-cnn-112x112-fs-3-batch-4-seed-715-kfold-1-0.47314-f1-0.68223.pkl',\n",
       " 'pickle/[XVAL]WEATHER-r2plus1d_18-model-cnn-112x112-fs-3-batch-4-seed-726-kfold-1-0.46785-f1-0.68916.pkl',\n",
       " 'pickle/[XVAL]WEATHER-r2plus1d_18-model-cnn-112x112-fs-3-batch-4-seed-727-kfold-1-0.73567-f1-0.71571.pkl',\n",
       " 'pickle/[XVAL]WEATHER-r2plus1d_18-model-cnn-112x112-fs-3-batch-4-seed-730-kfold-1-0.68395-f1-0.69759.pkl',\n",
       " 'pickle/[XVAL]WEATHER-r2plus1d_18-model-cnn-112x112-fs-3-batch-4-seed-743-kfold-1-0.55878-f1-0.62791.pkl',\n",
       " 'pickle/[XVAL]WEATHER-r2plus1d_18-model-cnn-112x112-fs-3-batch-4-seed-787-kfold-1-0.48572-f1-0.65467.pkl',\n",
       " 'pickle/[XVAL]WEATHER-r2plus1d_18-model-cnn-112x112-fs-3-batch-4-seed-805-kfold-1-0.91121-f1-0.50166.pkl',\n",
       " 'pickle/[XVAL]WEATHER-r2plus1d_18-model-cnn-112x112-fs-3-batch-4-seed-826-kfold-1-0.79809-f1-0.60700.pkl',\n",
       " 'pickle/[XVAL]WEATHER-r2plus1d_18-model-cnn-112x112-fs-3-batch-4-seed-829-kfold-1-0.50564-f1-0.68083.pkl',\n",
       " 'pickle/[XVAL]WEATHER-r2plus1d_18-model-cnn-112x112-fs-3-batch-4-seed-86-kfold-1-0.71532-f1-0.63583.pkl',\n",
       " 'pickle/[XVAL]WEATHER-r2plus1d_18-model-cnn-112x112-fs-3-batch-4-seed-863-kfold-1-0.45430-f1-0.67544.pkl',\n",
       " 'pickle/[XVAL]WEATHER-r2plus1d_18-model-cnn-112x112-fs-3-batch-4-seed-87-kfold-1-0.51779-f1-0.67649.pkl',\n",
       " 'pickle/[XVAL]WEATHER-r2plus1d_18-model-cnn-112x112-fs-3-batch-4-seed-87-kfold-1-0.71492-f1-0.69487.pkl',\n",
       " 'pickle/[XVAL]WEATHER-r2plus1d_18-model-cnn-112x112-fs-3-batch-4-seed-894-kfold-1-0.62864-f1-0.71519.pkl',\n",
       " 'pickle/[XVAL]WEATHER-r2plus1d_18-model-cnn-112x112-fs-3-batch-4-seed-910-kfold-1-0.53898-f1-0.58741.pkl',\n",
       " 'pickle/[XVAL]WEATHER-r2plus1d_18-model-cnn-112x112-fs-3-batch-4-seed-926-kfold-1-0.73996-f1-0.67658.pkl',\n",
       " 'pickle/[XVAL]WEATHER-r2plus1d_18-model-cnn-112x112-fs-3-batch-4-seed-935-kfold-1-0.48107-f1-0.68733.pkl',\n",
       " 'pickle/[XVAL]WEATHER-r2plus1d_18-model-cnn-112x112-fs-3-batch-4-seed-959-kfold-1-0.74011-f1-0.67132.pkl',\n",
       " 'pickle/[XVAL]WEATHER-r2plus1d_18-model-cnn-112x112-fs-3-batch-4-seed-962-kfold-1-0.86700-f1-0.58074.pkl',\n",
       " 'pickle/[XVAL]WEATHER-r2plus1d_18-model-cnn-112x112-fs-3-batch-4-seed-963-kfold-1-0.73137-f1-0.66527.pkl',\n",
       " 'pickle/[XVAL]WEATHER-r2plus1d_18-model-cnn-112x112-fs-3-batch-4-seed-972-kfold-1-0.78951-f1-0.61482.pkl',\n",
       " 'pickle/[XVAL]WEATHER-r2plus1d_18-model-cnn-112x112-fs-3-batch-4-seed-997-kfold-1-0.88082-f1-0.59117.pkl',\n",
       " 'pickle/[XVAL]WEATHER-r2plus1d_18-model-cnn-224x224-fs-3-batch-8-seed-103-kfold-1-0.36766-f1-0.72513.pkl',\n",
       " 'pickle/[XVAL]WEATHER-x3d_m-model-cnn-224x224-fs-3-batch-8-seed-271-kfold-1-0.40853-f1-0.72473.pkl',\n",
       " 'pickle/[XVAL]WEATHER-x3d_m-model-cnn-256x256-fs-3-batch-4-seed-103-kfold-1-0.43111-f1-0.73403.pkl',\n",
       " 'pickle/[XVAL]WEATHER-x3d_m-model-cnn-256x256-fs-3-batch-4-seed-107-kfold-1-0.61122-f1-0.72762.pkl',\n",
       " 'pickle/[XVAL]WEATHER-x3d_m-model-cnn-256x256-fs-3-batch-4-seed-11-kfold-1-0.65169-f1-0.73240.pkl',\n",
       " 'pickle/[XVAL]WEATHER-x3d_m-model-cnn-256x256-fs-3-batch-4-seed-114-kfold-1-0.67884-f1-0.73015.pkl',\n",
       " 'pickle/[XVAL]WEATHER-x3d_m-model-cnn-256x256-fs-3-batch-4-seed-125-kfold-1-0.46690-f1-0.69531.pkl',\n",
       " 'pickle/[XVAL]WEATHER-x3d_m-model-cnn-256x256-fs-3-batch-4-seed-132-kfold-1-0.48142-f1-0.68893.pkl',\n",
       " 'pickle/[XVAL]WEATHER-x3d_m-model-cnn-256x256-fs-3-batch-4-seed-142-kfold-1-0.42577-f1-0.71628.pkl',\n",
       " 'pickle/[XVAL]WEATHER-x3d_m-model-cnn-256x256-fs-3-batch-4-seed-146-kfold-1-0.51651-f1-0.67864.pkl',\n",
       " 'pickle/[XVAL]WEATHER-x3d_m-model-cnn-256x256-fs-3-batch-4-seed-17-kfold-1-0.42540-f1-0.72139.pkl',\n",
       " 'pickle/[XVAL]WEATHER-x3d_m-model-cnn-256x256-fs-3-batch-4-seed-178-kfold-1-0.49262-f1-0.67142.pkl',\n",
       " 'pickle/[XVAL]WEATHER-x3d_m-model-cnn-256x256-fs-3-batch-4-seed-182-kfold-1-0.76892-f1-0.72077.pkl',\n",
       " 'pickle/[XVAL]WEATHER-x3d_m-model-cnn-256x256-fs-3-batch-4-seed-203-kfold-1-0.66826-f1-0.73312.pkl',\n",
       " 'pickle/[XVAL]WEATHER-x3d_m-model-cnn-256x256-fs-3-batch-4-seed-203-kfold-1-0.68332-f1-0.72250.pkl',\n",
       " 'pickle/[XVAL]WEATHER-x3d_m-model-cnn-256x256-fs-3-batch-4-seed-214-kfold-1-0.59637-f1-0.72973.pkl',\n",
       " 'pickle/[XVAL]WEATHER-x3d_m-model-cnn-256x256-fs-3-batch-4-seed-258-kfold-1-0.44371-f1-0.72756.pkl',\n",
       " 'pickle/[XVAL]WEATHER-x3d_m-model-cnn-256x256-fs-3-batch-4-seed-264-kfold-1-0.71136-f1-0.70801.pkl',\n",
       " 'pickle/[XVAL]WEATHER-x3d_m-model-cnn-256x256-fs-3-batch-4-seed-274-kfold-1-0.53445-f1-0.68270.pkl',\n",
       " 'pickle/[XVAL]WEATHER-x3d_m-model-cnn-256x256-fs-3-batch-4-seed-28-kfold-1-0.73138-f1-0.72350.pkl',\n",
       " 'pickle/[XVAL]WEATHER-x3d_m-model-cnn-256x256-fs-3-batch-4-seed-280-kfold-1-0.71895-f1-0.70877.pkl',\n",
       " 'pickle/[XVAL]WEATHER-x3d_m-model-cnn-256x256-fs-3-batch-4-seed-288-kfold-1-0.43189-f1-0.74982.pkl',\n",
       " 'pickle/[XVAL]WEATHER-x3d_m-model-cnn-256x256-fs-3-batch-4-seed-293-kfold-1-0.62078-f1-0.72446.pkl',\n",
       " 'pickle/[XVAL]WEATHER-x3d_m-model-cnn-256x256-fs-3-batch-4-seed-298-kfold-1-0.51777-f1-0.70808.pkl',\n",
       " 'pickle/[XVAL]WEATHER-x3d_m-model-cnn-256x256-fs-3-batch-4-seed-302-kfold-1-0.63787-f1-0.71917.pkl',\n",
       " 'pickle/[XVAL]WEATHER-x3d_m-model-cnn-256x256-fs-3-batch-4-seed-309-kfold-1-0.41935-f1-0.75862.pkl',\n",
       " 'pickle/[XVAL]WEATHER-x3d_m-model-cnn-256x256-fs-3-batch-4-seed-310-kfold-1-0.47441-f1-0.70659.pkl',\n",
       " 'pickle/[XVAL]WEATHER-x3d_m-model-cnn-256x256-fs-3-batch-4-seed-326-kfold-1-0.72382-f1-0.67426.pkl',\n",
       " 'pickle/[XVAL]WEATHER-x3d_m-model-cnn-256x256-fs-3-batch-4-seed-332-kfold-1-0.74804-f1-0.72173.pkl',\n",
       " 'pickle/[XVAL]WEATHER-x3d_m-model-cnn-256x256-fs-3-batch-4-seed-347-kfold-1-0.48132-f1-0.71549.pkl',\n",
       " 'pickle/[XVAL]WEATHER-x3d_m-model-cnn-256x256-fs-3-batch-4-seed-357-kfold-1-0.69465-f1-0.69333.pkl',\n",
       " 'pickle/[XVAL]WEATHER-x3d_m-model-cnn-256x256-fs-3-batch-4-seed-397-kfold-1-0.69944-f1-0.66911.pkl',\n",
       " 'pickle/[XVAL]WEATHER-x3d_m-model-cnn-256x256-fs-3-batch-4-seed-404-kfold-1-0.41425-f1-0.76041.pkl',\n",
       " 'pickle/[XVAL]WEATHER-x3d_m-model-cnn-256x256-fs-3-batch-4-seed-426-kfold-1-0.70723-f1-0.71751.pkl',\n",
       " 'pickle/[XVAL]WEATHER-x3d_m-model-cnn-256x256-fs-3-batch-4-seed-438-kfold-1-0.68928-f1-0.69716.pkl',\n",
       " 'pickle/[XVAL]WEATHER-x3d_m-model-cnn-256x256-fs-3-batch-4-seed-450-kfold-1-0.61765-f1-0.74423.pkl',\n",
       " 'pickle/[XVAL]WEATHER-x3d_m-model-cnn-256x256-fs-3-batch-4-seed-461-kfold-1-0.46619-f1-0.68064.pkl',\n",
       " 'pickle/[XVAL]WEATHER-x3d_m-model-cnn-256x256-fs-3-batch-4-seed-476-kfold-1-0.72863-f1-0.70605.pkl',\n",
       " 'pickle/[XVAL]WEATHER-x3d_m-model-cnn-256x256-fs-3-batch-4-seed-479-kfold-1-0.48675-f1-0.73173.pkl',\n",
       " 'pickle/[XVAL]WEATHER-x3d_m-model-cnn-256x256-fs-3-batch-4-seed-486-kfold-1-0.68171-f1-0.71721.pkl',\n",
       " 'pickle/[XVAL]WEATHER-x3d_m-model-cnn-256x256-fs-3-batch-4-seed-5-kfold-1-0.41286-f1-0.71524.pkl',\n",
       " 'pickle/[XVAL]WEATHER-x3d_m-model-cnn-256x256-fs-3-batch-4-seed-506-kfold-1-0.45504-f1-0.73898.pkl',\n",
       " 'pickle/[XVAL]WEATHER-x3d_m-model-cnn-256x256-fs-3-batch-4-seed-548-kfold-1-0.80845-f1-0.68193.pkl',\n",
       " 'pickle/[XVAL]WEATHER-x3d_m-model-cnn-256x256-fs-3-batch-4-seed-55-kfold-1-0.64991-f1-0.68806.pkl',\n",
       " 'pickle/[XVAL]WEATHER-x3d_m-model-cnn-256x256-fs-3-batch-4-seed-550-kfold-1-0.50278-f1-0.69359.pkl',\n",
       " 'pickle/[XVAL]WEATHER-x3d_m-model-cnn-256x256-fs-3-batch-4-seed-56-kfold-1-0.41836-f1-0.74313.pkl',\n",
       " 'pickle/[XVAL]WEATHER-x3d_m-model-cnn-256x256-fs-3-batch-4-seed-561-kfold-1-0.69450-f1-0.69411.pkl',\n",
       " 'pickle/[XVAL]WEATHER-x3d_m-model-cnn-256x256-fs-3-batch-4-seed-565-kfold-1-0.46377-f1-0.71148.pkl',\n",
       " 'pickle/[XVAL]WEATHER-x3d_m-model-cnn-256x256-fs-3-batch-4-seed-570-kfold-1-0.71182-f1-0.69040.pkl',\n",
       " 'pickle/[XVAL]WEATHER-x3d_m-model-cnn-256x256-fs-3-batch-4-seed-575-kfold-1-0.67489-f1-0.71353.pkl',\n",
       " 'pickle/[XVAL]WEATHER-x3d_m-model-cnn-256x256-fs-3-batch-4-seed-578-kfold-1-0.47737-f1-0.72662.pkl',\n",
       " 'pickle/[XVAL]WEATHER-x3d_m-model-cnn-256x256-fs-3-batch-4-seed-581-kfold-1-0.73325-f1-0.69438.pkl',\n",
       " 'pickle/[XVAL]WEATHER-x3d_m-model-cnn-256x256-fs-3-batch-4-seed-589-kfold-1-0.49924-f1-0.70742.pkl',\n",
       " 'pickle/[XVAL]WEATHER-x3d_m-model-cnn-256x256-fs-3-batch-4-seed-625-kfold-1-0.48323-f1-0.69847.pkl',\n",
       " 'pickle/[XVAL]WEATHER-x3d_m-model-cnn-256x256-fs-3-batch-4-seed-644-kfold-1-0.68023-f1-0.72084.pkl',\n",
       " 'pickle/[XVAL]WEATHER-x3d_m-model-cnn-256x256-fs-3-batch-4-seed-650-kfold-1-0.47755-f1-0.70657.pkl',\n",
       " 'pickle/[XVAL]WEATHER-x3d_m-model-cnn-256x256-fs-3-batch-4-seed-664-kfold-1-0.52626-f1-0.72441.pkl',\n",
       " 'pickle/[XVAL]WEATHER-x3d_m-model-cnn-256x256-fs-3-batch-4-seed-670-kfold-1-0.73926-f1-0.69396.pkl',\n",
       " 'pickle/[XVAL]WEATHER-x3d_m-model-cnn-256x256-fs-3-batch-4-seed-688-kfold-1-0.43717-f1-0.71129.pkl',\n",
       " 'pickle/[XVAL]WEATHER-x3d_m-model-cnn-256x256-fs-3-batch-4-seed-727-kfold-1-0.47268-f1-0.71584.pkl',\n",
       " 'pickle/[XVAL]WEATHER-x3d_m-model-cnn-256x256-fs-3-batch-4-seed-73-kfold-1-0.44737-f1-0.71279.pkl',\n",
       " 'pickle/[XVAL]WEATHER-x3d_m-model-cnn-256x256-fs-3-batch-4-seed-748-kfold-1-0.49673-f1-0.70228.pkl',\n",
       " 'pickle/[XVAL]WEATHER-x3d_m-model-cnn-256x256-fs-3-batch-4-seed-753-kfold-1-0.67512-f1-0.72230.pkl',\n",
       " 'pickle/[XVAL]WEATHER-x3d_m-model-cnn-256x256-fs-3-batch-4-seed-762-kfold-1-0.67505-f1-0.70816.pkl',\n",
       " 'pickle/[XVAL]WEATHER-x3d_m-model-cnn-256x256-fs-3-batch-4-seed-789-kfold-1-0.50416-f1-0.69860.pkl',\n",
       " 'pickle/[XVAL]WEATHER-x3d_m-model-cnn-256x256-fs-3-batch-4-seed-810-kfold-1-0.71549-f1-0.71666.pkl',\n",
       " 'pickle/[XVAL]WEATHER-x3d_m-model-cnn-256x256-fs-3-batch-4-seed-814-kfold-1-0.47334-f1-0.71631.pkl',\n",
       " 'pickle/[XVAL]WEATHER-x3d_m-model-cnn-256x256-fs-3-batch-4-seed-84-kfold-1-0.67412-f1-0.69170.pkl',\n",
       " 'pickle/[XVAL]WEATHER-x3d_m-model-cnn-256x256-fs-3-batch-4-seed-840-kfold-1-0.47714-f1-0.71395.pkl',\n",
       " 'pickle/[XVAL]WEATHER-x3d_m-model-cnn-256x256-fs-3-batch-4-seed-840-kfold-1-0.66920-f1-0.71799.pkl',\n",
       " 'pickle/[XVAL]WEATHER-x3d_m-model-cnn-256x256-fs-3-batch-4-seed-85-kfold-1-0.73896-f1-0.68612.pkl',\n",
       " 'pickle/[XVAL]WEATHER-x3d_m-model-cnn-256x256-fs-3-batch-4-seed-859-kfold-1-0.50419-f1-0.65449.pkl',\n",
       " 'pickle/[XVAL]WEATHER-x3d_m-model-cnn-256x256-fs-3-batch-4-seed-863-kfold-1-0.43765-f1-0.74219.pkl',\n",
       " 'pickle/[XVAL]WEATHER-x3d_m-model-cnn-256x256-fs-3-batch-4-seed-867-kfold-1-0.49095-f1-0.70386.pkl',\n",
       " 'pickle/[XVAL]WEATHER-x3d_m-model-cnn-256x256-fs-3-batch-4-seed-906-kfold-1-0.48820-f1-0.71656.pkl',\n",
       " 'pickle/[XVAL]WEATHER-x3d_m-model-cnn-256x256-fs-3-batch-4-seed-906-kfold-1-0.69659-f1-0.69954.pkl',\n",
       " 'pickle/[XVAL]WEATHER-x3d_m-model-cnn-256x256-fs-3-batch-4-seed-907-kfold-1-0.64696-f1-0.71337.pkl',\n",
       " 'pickle/[XVAL]WEATHER-x3d_m-model-cnn-256x256-fs-3-batch-4-seed-915-kfold-1-0.47505-f1-0.70465.pkl',\n",
       " 'pickle/[XVAL]WEATHER-x3d_m-model-cnn-256x256-fs-3-batch-4-seed-919-kfold-1-0.44290-f1-0.74178.pkl',\n",
       " 'pickle/[XVAL]WEATHER-x3d_m-model-cnn-256x256-fs-3-batch-4-seed-942-kfold-1-0.50748-f1-0.71103.pkl',\n",
       " 'pickle/[XVAL]WEATHER-x3d_m-model-cnn-256x256-fs-3-batch-4-seed-946-kfold-1-0.70760-f1-0.70630.pkl',\n",
       " 'pickle/[XVAL]WEATHER-x3d_m-model-cnn-256x256-fs-3-batch-4-seed-950-kfold-1-0.42735-f1-0.75148.pkl',\n",
       " 'pickle/[XVAL]WEATHER-x3d_m-model-cnn-256x256-fs-3-batch-4-seed-956-kfold-1-0.73426-f1-0.68362.pkl',\n",
       " 'pickle/[XVAL]WEATHER-x3d_m-model-cnn-256x256-fs-3-batch-4-seed-960-kfold-1-0.45481-f1-0.72895.pkl',\n",
       " 'pickle/[XVAL]WEATHER-x3d_m-model-cnn-256x256-fs-3-batch-4-seed-999-kfold-1-0.49469-f1-0.74476.pkl',\n",
       " 'pickle/[XVAL]WN-x3d_m-model-cnn-224x224-fs-3-batch-4-seed-104-kfold-1-0.09607-f1-0.75292.pkl',\n",
       " 'pickle/[XVAL]WN-x3d_m-model-cnn-224x224-fs-3-batch-4-seed-104-kfold-1-0.19597-f1-0.77021.pkl',\n",
       " 'pickle/[XVAL]WN-x3d_m-model-cnn-224x224-fs-3-batch-4-seed-115-kfold-1-0.17663-f1-0.79375.pkl',\n",
       " 'pickle/[XVAL]WN-x3d_m-model-cnn-224x224-fs-3-batch-4-seed-204-kfold-1-0.10003-f1-0.76823.pkl',\n",
       " 'pickle/[XVAL]WN-x3d_m-model-cnn-224x224-fs-3-batch-4-seed-244-kfold-1-0.09235-f1-0.77293.pkl',\n",
       " 'pickle/[XVAL]WN-x3d_m-model-cnn-224x224-fs-3-batch-4-seed-257-kfold-1-0.09717-f1-0.77841.pkl',\n",
       " 'pickle/[XVAL]WN-x3d_m-model-cnn-224x224-fs-3-batch-4-seed-313-kfold-1-0.17647-f1-0.75972.pkl',\n",
       " 'pickle/[XVAL]WN-x3d_m-model-cnn-224x224-fs-3-batch-4-seed-335-kfold-1-0.18629-f1-0.77417.pkl',\n",
       " 'pickle/[XVAL]WN-x3d_m-model-cnn-224x224-fs-3-batch-4-seed-398-kfold-1-0.09701-f1-0.75924.pkl',\n",
       " 'pickle/[XVAL]WN-x3d_m-model-cnn-224x224-fs-3-batch-4-seed-413-kfold-1-0.19569-f1-0.75719.pkl',\n",
       " 'pickle/[XVAL]WN-x3d_m-model-cnn-224x224-fs-3-batch-4-seed-51-kfold-1-0.10177-f1-0.75232.pkl',\n",
       " 'pickle/[XVAL]WN-x3d_m-model-cnn-224x224-fs-3-batch-4-seed-696-kfold-1-0.09541-f1-0.80037.pkl',\n",
       " 'pickle/[XVAL]WN-x3d_m-model-cnn-224x224-fs-3-batch-4-seed-708-kfold-1-0.20512-f1-0.75521.pkl',\n",
       " 'pickle/[XVAL]WN-x3d_m-model-cnn-224x224-fs-3-batch-4-seed-757-kfold-1-0.17819-f1-0.77534.pkl',\n",
       " 'pickle/[XVAL]WN-x3d_m-model-cnn-224x224-fs-3-batch-4-seed-793-kfold-1-0.18675-f1-0.76038.pkl',\n",
       " 'pickle/[XVAL]WN-x3d_m-model-cnn-224x224-fs-3-batch-4-seed-809-kfold-1-0.15980-f1-0.79520.pkl',\n",
       " 'pickle/[XVAL]WN-x3d_m-model-cnn-224x224-fs-3-batch-4-seed-810-kfold-1-0.19721-f1-0.77061.pkl',\n",
       " 'pickle/[XVAL]WN-x3d_m-model-cnn-224x224-fs-3-batch-4-seed-857-kfold-1-0.09815-f1-0.76302.pkl',\n",
       " 'pickle/[XVAL]WN-x3d_m-model-cnn-224x224-fs-3-batch-4-seed-938-kfold-1-0.17713-f1-0.78170.pkl',\n",
       " 'pickle/[XVAL]WN-x3d_m-model-cnn-224x224-fs-3-batch-4-seed-970-kfold-1-0.16881-f1-0.80309.pkl',\n",
       " 'pickle/[XVAL]WN-x3d_m-model-cnn-224x224-fs-3-batch-4-seed-984-kfold-1-0.19720-f1-0.76636.pkl',\n",
       " 'pickle/[XVAL]WN-x3d_m-model-cnn-224x224-fs-3-batch-8-seed-20-kfold-1-0.09509-f1-0.76523.pkl',\n",
       " 'pickle/[XVAL]WN-x3d_m-model-cnn-224x224-fs-3-batch-8-seed-29-kfold-1-0.19037-f1-0.76621.pkl',\n",
       " 'pickle/[XVAL]WN-x3d_m-model-cnn-224x224-fs-3-batch-8-seed-32-kfold-1-0.18843-f1-0.76547.pkl',\n",
       " 'pickle/[XVAL]WN-x3d_m-model-cnn-224x224-fs-3-batch-8-seed-390-kfold-1-0.19407-f1-0.75462.pkl',\n",
       " 'pickle/[XVAL]WN-x3d_m-model-cnn-224x224-fs-3-batch-8-seed-435-kfold-1-0.09764-f1-0.78404.pkl',\n",
       " 'pickle/[XVAL]WN-x3d_m-model-cnn-224x224-fs-3-batch-8-seed-577-kfold-1-0.19213-f1-0.75433.pkl',\n",
       " 'pickle/[XVAL]WN-x3d_m-model-cnn-224x224-fs-3-batch-8-seed-678-kfold-1-0.09570-f1-0.75361.pkl',\n",
       " 'pickle/[XVAL]WN-x3d_m-model-cnn-224x224-fs-3-batch-8-seed-756-kfold-1-0.18602-f1-0.76172.pkl',\n",
       " 'pickle/[XVAL]WN-x3d_m-model-cnn-224x224-fs-3-batch-8-seed-848-kfold-1-0.09865-f1-0.75943.pkl',\n",
       " 'pickle/[XVAL]WN-x3d_m-model-cnn-224x224-fs-3-batch-8-seed-898-kfold-1-0.18871-f1-0.75308.pkl',\n",
       " 'pickle/[XVAL]WSR-r2plus1d_18-model-cnn-112x112-fs-3-batch-4-seed-307-kfold-1-0.07689-f1-0.93207.pkl',\n",
       " 'pickle/[XVAL]WSR-r2plus1d_18-model-cnn-112x112-fs-3-batch-4-seed-33-kfold-1-0.03266-f1-0.94519.pkl',\n",
       " 'pickle/[XVAL]WSR-r2plus1d_18-model-cnn-112x112-fs-3-batch-4-seed-979-kfold-1-0.02576-f1-0.95969.pkl',\n",
       " 'pickle/[XVAL]WSR-r2plus1d_18-model-cnn-112x112-fs-3-batch-8-seed-194-kfold-1-0.04552-f1-0.93186.pkl',\n",
       " 'pickle/[XVAL]WSR-r2plus1d_18-model-cnn-112x112-fs-3-batch-8-seed-37-kfold-1-0.03097-f1-0.93275.pkl',\n",
       " 'pickle/[XVAL]WSR-r2plus1d_18-model-cnn-112x112-fs-3-batch-8-seed-615-kfold-1-0.09154-f1-0.93769.pkl',\n",
       " 'pickle/[XVAL]WSR-r2plus1d_18-model-cnn-112x112-fs-3-batch-8-seed-671-kfold-1-0.07837-f1-0.92618.pkl',\n",
       " 'pickle/[XVAL]WSR-r2plus1d_18-model-cnn-112x112-fs-3-batch-8-seed-99-kfold-1-0.07528-f1-0.93280.pkl',\n",
       " 'pickle/[XVAL]WSR-r2plus1d_18-model-cnn-224x224-fs-3-batch-4-seed-386-kfold-1-0.03925-f1-0.92575.pkl',\n",
       " 'pickle/[XVAL]WSR-r2plus1d_18-model-cnn-224x224-fs-3-batch-8-seed-152-kfold-1-0.08266-f1-0.92558.pkl',\n",
       " 'pickle/[XVAL]WSR-r2plus1d_18-model-cnn-224x224-fs-3-batch-8-seed-523-kfold-1-0.08356-f1-0.92436.pkl',\n",
       " 'pickle/[XVAL]WSR-r2plus1d_18-model-cnn-224x224-fs-3-batch-8-seed-624-kfold-1-0.03029-f1-0.92670.pkl']"
      ]
     },
     "execution_count": 196,
     "metadata": {},
     "output_type": "execute_result"
    }
   ],
   "source": [
    "sorted(glob.glob(os.path.join(PICKLE_DIR, '*.pkl')))"
   ]
  },
  {
   "cell_type": "code",
   "execution_count": 668,
   "id": "937877c5",
   "metadata": {},
   "outputs": [],
   "source": [
    "wn_files = [\n",
    "#     '[XVAL]WN-x3d_m-model-cnn-224x224-fs-3-batch-4-seed-373-kfold-1-0.18447-f1-0.74959.pkl',\n",
    "#     '[XVAL]WN-x3d_m-model-cnn-224x224-fs-3-batch-4-seed-417-kfold-1-0.09147-f1-0.73693.pkl', # 0.643878519\n",
    "    '[XVAL]WN-x3d_m-model-cnn-224x224-fs-3-batch-4-seed-696-kfold-1-0.09541-f1-0.80037.pkl',\n",
    "    '[XVAL]WN-x3d_m-model-cnn-224x224-fs-3-batch-4-seed-970-kfold-1-0.16881-f1-0.80309.pkl'\n",
    "#     '[XVAL]WN-x3d_m-model-cnn-224x224-fs-3-batch-4-seed-139-kfold-1-0.09204-f1-0.73802.pkl',\n",
    "#     '[XVAL]WN-x3d_m-model-cnn-224x224-fs-3-batch-8-seed-819-kfold-1-0.09364-f1-0.74641.pkl',\n",
    "]\n",
    "\n",
    "wsr_files = [\n",
    "    '[XVAL]WSR-r2plus1d_18-model-cnn-112x112-fs-3-batch-8-seed-615-kfold-1-0.09154-f1-0.93769.pkl',\n",
    "#     '[XVAL]WSR-r2plus1d_18-model-cnn-112x112-fs-3-batch-8-seed-194-kfold-1-0.04552-f1-0.93186.pkl', # 0.643878519\n",
    "    '[XVAL]WSR-r2plus1d_18-model-cnn-112x112-fs-3-batch-4-seed-979-kfold-1-0.02576-f1-0.95969.pkl',\n",
    "#     '[XVAL]WSR-r2plus1d_18-model-cnn-224x224-fs-3-batch-8-seed-624-kfold-1-0.03029-f1-0.92670.pkl',\n",
    "    '[XVAL]WSR-r2plus1d_18-model-cnn-112x112-fs-3-batch-4-seed-33-kfold-1-0.03266-f1-0.94519.pkl'\n",
    "]"
   ]
  },
  {
   "cell_type": "code",
   "execution_count": 669,
   "id": "40efc7d4",
   "metadata": {},
   "outputs": [],
   "source": [
    "wn, wsr = np.zeros(shape=(1800, 2)), np.zeros(shape=(1800, 2))\n",
    "\n",
    "for wn_file in wn_files:\n",
    "    wn_ = load_pickle(os.path.join(PICKLE_DIR, wn_file))\n",
    "    wn_ = np.array(wn_).mean(axis=0)\n",
    "    wn += wn_\n",
    "    \n",
    "for wsr_file in wsr_files:\n",
    "    wsr_ = load_pickle(os.path.join(PICKLE_DIR, wsr_file))\n",
    "    wsr_ = np.array(wsr_).mean(axis=0)\n",
    "    wsr += wsr_"
   ]
  },
  {
   "cell_type": "code",
   "execution_count": 670,
   "id": "9d66c998",
   "metadata": {},
   "outputs": [
    {
     "data": {
      "text/plain": [
       "array([0, 0, 1, ..., 0, 0, 0])"
      ]
     },
     "execution_count": 670,
     "metadata": {},
     "output_type": "execute_result"
    }
   ],
   "source": [
    "wn_pred = wn.argmax(axis=1)\n",
    "wn_pred"
   ]
  },
  {
   "cell_type": "code",
   "execution_count": 671,
   "id": "aaba524f",
   "metadata": {},
   "outputs": [],
   "source": [
    "wn_pred = wn.argmax(axis=1)\n",
    "wsr_pred = wsr.argmax(axis=1)\n",
    "wsr_pred = wsr_pred + 1\n",
    "weather_pred = wn_pred * wsr_pred"
   ]
  },
  {
   "cell_type": "code",
   "execution_count": 922,
   "id": "890fc4f5",
   "metadata": {},
   "outputs": [],
   "source": [
    "crash_files = [\n",
    "#     'Crash-Cls-Model-SEED-321-0.00106.pkl', # 0.6865544182(best) # 0.684858525\n",
    "#     'Crash-Cls-Model-SEED-345-0.00134.pkl', # 0.6865544182(best) # 0.684858525\n",
    "#     'CRASH-r2plus1d_18-heavy-model-cnn-255x255-frameskip-2-batch-4-seed-0-0.00011-f1-1.00000.pkl', # ensemble # 0.6854785709 (2nd) # 0.684858525, # 0.6818615702 # 0.6355532314\n",
    "#     'CRASH-r2plus1d_18-heavy-model-cnn-255x255-frameskip-2-batch-4-seed-10-0.00002-f1-1.00000.pkl', # ensemble # 0.6854785709 (2nd) # 0.684858525 # 0.6355532314\n",
    "#     'CRASH-r2plus1d_18-resize-crop-model-cnn-112x112-fs-2-batch-4-seed-546-kfold-1-0.00047-f1-1.00000.pkl' # 0.6818615702\n",
    "#     '[XVAL]CRASH-r2plus1d_18-model-cnn-112x112-fs-3-batch-8-seed-720-kfold-1-0.00087-f1-0.99897.pkl',\n",
    "#     '[XVAL]CRASH-r2plus1d_18-model-cnn-224x224-fs-2-batch-4-seed-817-kfold-1-0.00809-f1-1.00000.pkl',\n",
    "#     '[XVAL]CRASH-r2plus1d_18-model-cnn-224x224-fs-3-batch-4-seed-734-kfold-1-0.00830-f1-0.99948.pkl',\n",
    "#     '[XVAL]CRASH-r2plus1d_18-model-cnn-112x112-fs-3-batch-8-seed-720-kfold-1-0.00087-f1-0.99897.pkl'\n",
    "#     '[XVAL]CRASH-rnn-model-cnn-224x224-fs-3-batch-4-seed-844-kfold-1-0.06715-f1-0.92322.pkl',\n",
    "#     '[XVAL]CRASH-rnn-model-cnn-224x224-fs-3-batch-4-seed-480-kfold-1-0.04293-f1-0.90087.pkl',\n",
    "#     '[XVAL]CRASH-rnn-model-cnn-224x224-fs-3-batch-4-seed-844-kfold-1-0.06715-f1-0.92322.pkl',\n",
    "#     '[XVAL]CRASH-rnn-model-cnn-224x224-fs-3-batch-8-seed-826-kfold-1-0.07112-f1-0.91398.pkl',\n",
    "#     '[XVAL]CRASH-r2plus1d_18-model-cnn-224x224-fs-2-batch-4-seed-817-kfold-1-0.00809-f1-1.00000.pkl'\n",
    "#     '[XVAL]CRASH-rnn-model-rnn-112x112-fs-3-batch-4-seed-694-kfold-1-0.11764-f1-0.85258.pkl',\n",
    "#     '[XVAL]CRASH-x3d_m-model-cnn-224x224-fs-3-batch-8-seed-789-kfold-1-0.03544-f1-0.99221.pkl',\n",
    "#     '[XVAL]CRASH-x3d_m-model-cnn-224x224-fs-3-batch-4-seed-553-kfold-1-0.00899-f1-0.99845.pkl',\n",
    "#     '[XVAL]CRASH-x3d_m-model-cnn-224x224-fs-3-batch-4-seed-165-kfold-1-0.00973-f1-0.99637.pkl',\n",
    "#     '[XVAL]CRASH-x3d_m-model-cnn-224x224-fs-3-batch-4-seed-165-kfold-1-0.00973-f1-0.99637.pkl',\n",
    "    '[XVAL]CRASH-x3d_m-model-cnn-224x224-fs-3-batch-4-seed-187-kfold-1-0.03288-f1-0.99534.pkl', #VAR\n",
    "    '[XVAL]CRASH-x3d_m-model-cnn-224x224-fs-3-batch-4-seed-553-kfold-1-0.00899-f1-0.99845.pkl', #VAR\n",
    "    '[XVAL]CRASH-x3d_m-model-cnn-224x224-fs-3-batch-8-seed-127-kfold-1-0.03260-f1-0.99482.pkl', #VAR\n",
    "#     '[XVAL]CRASH-x3d_m-model-cnn-224x224-fs-3-batch-8-seed-759-kfold-1-0.03218-f1-0.99690.pkl',\n",
    "#     '[XVAL]CRASH-x3d_m-model-cnn-224x224-fs-3-batch-8-seed-789-kfold-1-0.03544-f1-0.99221.pkl',\n",
    "]\n",
    "\n",
    "ego_files = [\n",
    "#     'Ego-Classifier-V1-r2plus1d_18-255x255-cuda0-SEED-567-0.07404.pkl',\n",
    "#     'EGO-Classifier-V1-r2plus1d_18-255x255-frameskip-2-batch-8-seed-567-0.00889.pkl', # 0.6865544182(best), 0.5213793652 (top)\n",
    "#     'EGO-Classifier-V1-r2plus1d_18-255x255-frameskip-2-batch-8-seed-123-0.01809.pkl'\n",
    "#     'EGO-r2plus1d_18-heavy-model-cnn-255x255-frameskip-2-batch-4-seed-0-0.01703-f1-0.80872.pkl', # 0.5977034593 (poor)\n",
    "#     'EGO-r2plus1d_18-heavy-model-cnn-255x255-frameskip-2-batch-4-seed-10-0.01268-f1-0.87394.pkl', # 0.5977034593 (poor)\n",
    "#     'EGO-tmp_model_default-model-cnn-112x112-frameskip-2-batch-4-seed-0-kfold-1-0.00000-f1-1.00000.pkl', # 0.684858525\n",
    "#     'EGO-r2plus1d_18-resize-crop-model-cnn-112x112-frameskip-2-batch-4-seed-0-kfold-1-0.00008-f1-1.00000.pkl', # 0.684858525\n",
    "#     'EGO-r2plus1d_18-resize-crop-model-cnn-224x224-fs-3-batch-8-seed-60-kfold-1-0.07919-f1-0.90648.pkl', # 0.6818615702\n",
    "#     'EGO-r2plus1d_18-resize-crop-model-cnn-112x112-fs-3-batch-8-seed-967-kfold-1-0.07632-f1-0.90846.pkl', # 0.6818615702\n",
    "#     'EGO-r2plus1d_18-resize-crop-xval-model-cnn-112x112-fs-3-batch-8-seed-452-kfold-1-0.08180-f1-0.90312.pkl', # 0.6818615702\n",
    "#      '[XVAL]EGO-r2plus1d_18-model-cnn-112x112-fs-2-batch-8-seed-640-kfold-1-0.04259-f1-0.90511.pkl', # ?\n",
    "#      '[XVAL]EGO-r2plus1d_18-model-cnn-224x224-fs-5-batch-4-seed-734-kfold-1-0.08967-f1-0.89015.pkl', # 0.6355532314\n",
    "#      '[XVAL]EGO-r2plus1d_18-model-cnn-112x112-fs-2-batch-8-seed-611-kfold-1-0.04282-f1-0.89706.pkl', # 0.6355532314\n",
    "#      '[XVAL]EGO-r2plus1d_18-model-cnn-224x224-fs-2-batch-4-seed-449-kfold-1-0.04482-f1-0.88902.pkl',   # 0.6355532314\n",
    "     '[XVAL]EGO-x3d_m-model-cnn-224x224-fs-2-batch-4-seed-394-kfold-1-0.04222-f1-0.91201.pkl', \n",
    "     '[XVAL]EGO-x3d_m-model-cnn-224x224-fs-3-batch-8-seed-61-kfold-1-0.08227-f1-0.90514.pkl'\n",
    "]\n",
    "\n",
    "weather_files = [\n",
    "#     'Weather-Classifier-V1-r2plus1d_18-255x255-cuda1-SEED-567-0.03753.pkl',\n",
    "#     'WEATHER-Classifier-V1-r2plus1d_18-255x255-frameskip-2-batch-8-seed-567-0.00986.pkl', \n",
    "#     'WEATHER-Classifier-V1-r2plus1d_18-255x255-frameskip-2-batch-8-seed-123-0.25076.pkl',\n",
    "#     'WEATHER-Classifier-V1-r2plus1d_18-255x255-frameskip-1-batch-8-seed-123-0.20661.pkl', \n",
    "#     'WEATHER-Classifier-V1-r2plus1d_18-255x255-frameskip-2-batch-8-seed-2023-0.24641.pkl', # center-crop\n",
    "#     'WEATHER-Classifier-V1-slow_r50-255x255-frameskip-2-batch-8-seed-42-0.45572.pkl',\n",
    "#     'Weather-Classifier-V1-r2plus1d_18-255x255-cuda1-SEED-567-0.03753.pkl',\n",
    "#     'WEATHER-Classifier-V1-slow_r50-255x255-frameskip-2-batch-8-seed-42-0.45572.pkl', # 0.5213793652 (top) \n",
    "#     'WEATHER-Classifier-V1-slow_r50-255x255-frameskip-1-batch-8-seed-135-epoch-1-loss-0.43815-f1-0.55275.pkl',\n",
    "#     'WEATHER-Classifier-V1-slow_r50-255x255-frameskip-1-batch-8-seed-135-epoch-2-loss-0.38677-f1-0.59659.pkl' #0.4406144715\n",
    "#     'WEATHER-Classifier-V1-slow_r50-255x255-frameskip-1-batch-8-seed-135-epoch-15-loss-0.40327-f1-0.62998.pkl', # 0.5208839468\n",
    "#     'WEATHER-Classifier-V1-slow_r50-255x255-frameskip-1-batch-8-seed-135-epoch-18-loss-0.38370-f1-0.63455.pkl',\n",
    "#     'WEATHER-Classifier-V1-slow_r50-255x255-frameskip-1-batch-8-seed-100-epoch-4-loss-0.40105-f1-0.63010.pkl', \n",
    "#     'WEATHER-Classifier-V1-slow_r50-255x255-frameskip-1-batch-8-seed-200-epoch-2-loss-0.39777-f1-0.63798.pkl', \n",
    "#     'WEATHER-slow_r50-model-can-255x255-frameskip-2-batch-8-seed-0-0.62483-f1-0.70351.pkl' # not tried..\n",
    "#     'WEATHER-r2plus1d_18-heavy-v2-model-cnn-255x255-frameskip-2-batch-4-seed-30-0.28146-f1-0.75429.pkl', # 0.6665658906 (아래 모델과 앙상블시)\n",
    "#     'WEATHER-r2plus1d_18-model-cnn-255x255-frameskip-2-batch-4-seed-0-0.31813-f1-0.75749.pkl', # 0.6865544182(best), lr=5e-5 # 0.684858525, 0.6818615702\n",
    "#     'WEATHER-r2plus1d_18-resize-crop-model-can-112x112-frameskip-2-batch-4-seed-0-0.00059-f1-1.00000.pkl', # 0.67616948 best에서 이것만 바꾼 결과 # 0.684858525\n",
    "#     'WEATHER-r2plus1d_18-resize-crop-model-cnn-112x112-fs-3-batch-8-seed-281-kfold-1-0.54456-f1-0.75811.pkl',\n",
    "#     'WEATHER-r2plus1d_18-resize-crop-xval-model-cnn-112x112-fs-3-batch-8-seed-224-kfold-1-0.57961-f1-0.72420.pkl',\n",
    "#     '[XVAL]WEATHER-mc3_18-model-cnn-112x112-fs-3-batch-8-seed-366-kfold-1-0.17040-f1-0.69242.pkl', # 0.581865929\n",
    "#     '[XVAL]WEATHER-x3d_m-model-cnn-112x112-fs-3-batch-4-seed-891-kfold-1-0.17395-f1-0.69582.pkl' # 0.581865929\n",
    "#     '[XVAL]WEATHER-r2plus1d_18-model-cnn-112x112-fs-2-batch-8-seed-898-kfold-1-0.60833-f1-0.71520.pkl', # 0.5585714517 # 0.6355532314\n",
    "#     '[XVAL]WEATHER-r2plus1d_18-model-cnn-112x112-fs-3-batch-4-seed-544-kfold-1-0.40138-f1-0.71165.pkl', # BEST_0.7175013647 # BEST_ENS_0.683 # 0.6355532314\n",
    "#     '[XVAL]WEATHER-r2plus1d_18-model-cnn-224x224-fs-3-batch-8-seed-103-kfold-1-0.36766-f1-0.72513.pkl', # 0.58\n",
    "#     '[XVAL]WEATHER-x3d_m-model-cnn-112x112-fs-2-batch-8-seed-820-kfold-1-0.18421-f1-0.70882.pkl', # 0.6229\n",
    "#     'WEATHER-x3d_m-resize-crop-xval-model-cnn-224x224-fs-3-batch-8-seed-106-kfold-1-0.62130-f1-0.76370.pkl' # 0.59\n",
    "#     'WEATHER-x3d_m-resize-crop-xval-model-cnn-224x224-fs-3-batch-8-seed-106-kfold-1-0.62130-f1-0.76370.pkl' # 0.59\n",
    "#     '[XVAL]WEATHER-x3d_m-model-cnn-112x112-fs-2-batch-8-seed-820-kfold-1-0.18421-f1-0.70882.pkl', # BEST_ENS_0.683 # 0.6229\n",
    "#     '[XVAL]WEATHER-r2plus1d_18-model-cnn-224x224-fs-3-batch-8-seed-103-kfold-1-0.36766-f1-0.72513.pkl', # 0.68 -> 0.62 하락 요인\n",
    "#     '[XVAL]WEATHER-x3d_m-model-cnn-224x224-fs-3-batch-8-seed-508-kfold-1-0.27430-f1-0.71739.pkl',\n",
    "#     '[XVAL]WEATHER-x3d_m-model-cnn-224x224-fs-3-batch-8-seed-271-kfold-1-0.40853-f1-0.72473.pkl', # BEST_0.7175013647, 단일 0.6499\n",
    "#     '[XVAL]WEATHER-x3d_m-model-cnn-256x256-fs-3-batch-4-seed-999-kfold-1-0.49469-f1-0.74476.pkl',\n",
    "#     '[XVAL]WEATHER-x3d_m-model-cnn-256x256-fs-3-batch-4-seed-919-kfold-1-0.44290-f1-0.74178.pkl',\n",
    "#     '[XVAL]WEATHER-r2plus1d_18-model-cnn-112x112-fs-3-batch-4-seed-894-kfold-1-0.62864-f1-0.71519.pkl',\n",
    "#     '[XVAL]WEATHER-x3d_m-model-cnn-256x256-fs-3-batch-4-seed-950-kfold-1-0.42735-f1-0.75148.pkl',\n",
    "#     '[XVAL]WEATHER-x3d_m-model-cnn-256x256-fs-3-batch-4-seed-404-kfold-1-0.41425-f1-0.76041.pkl',\n",
    "#     '[XVAL]WEATHER-r2plus1d_18-model-cnn-224x224-fs-3-batch-8-seed-103-kfold-1-0.36766-f1-0.72513.pkl'\n",
    "#     '[XVAL]WEATHER-r2plus1d_18-model-cnn-224x224-fs-3-batch-8-seed-103-kfold-1-0.36766-f1-0.72513.pkl',\n",
    "#     '[XVAL]WEATHER-x3d_m-model-cnn-256x256-fs-3-batch-4-seed-309-kfold-1-0.41935-f1-0.75862.pkl'\n",
    "#     '[XVAL]WEATHER-r2plus1d_18-model-cnn-112x112-fs-3-batch-4-seed-235-kfold-1-0.41059-f1-0.70845.pkl',\n",
    "#     '[XVAL]WEATHER-x3d_m-model-cnn-256x256-fs-3-batch-4-seed-950-kfold-1-0.42735-f1-0.75148.pkl',\n",
    "#     '[XVAL]WEATHER-x3d_m-model-cnn-256x256-fs-3-batch-4-seed-919-kfold-1-0.44290-f1-0.74178.pkl',\n",
    "#     '[XVAL]WEATHER-r2plus1d_18-model-cnn-112x112-fs-3-batch-4-seed-727-kfold-1-0.73567-f1-0.71571.pkl',\n",
    "#     '[XVAL]WEATHER-r2plus1d_18-model-cnn-112x112-fs-3-batch-4-seed-653-kfold-1-0.44581-f1-0.71517.pkl',\n",
    "#     '[XVAL]WEATHER-x3d_m-model-cnn-256x256-fs-3-batch-4-seed-56-kfold-1-0.41836-f1-0.74313.pkl',\n",
    "#     '[XVAL]WEATHER-x3d_m-model-cnn-256x256-fs-3-batch-4-seed-5-kfold-1-0.41286-f1-0.71524.pkl',\n",
    "#     '[XVAL]WEATHER-x3d_m-model-cnn-224x224-fs-3-batch-8-seed-271-kfold-1-0.40853-f1-0.72473.pkl',\n",
    "#     '[XVAL]WEATHER-r2plus1d_18-model-cnn-112x112-fs-3-batch-4-seed-235-kfold-1-0.41059-f1-0.70845.pkl',\n",
    "#     '[XVAL]WEATHER-r2plus1d_18-model-cnn-112x112-fs-3-batch-4-seed-544-kfold-1-0.38909-f1-0.64901.pkl',\n",
    "#     '[XVAL]WEATHER-r2plus1d_18-model-cnn-112x112-fs-3-batch-4-seed-544-kfold-1-0.39231-f1-0.63086.pkl'\n",
    "#     '[XVAL]WEATHER-x3d_m-model-cnn-256x256-fs-3-batch-4-seed-950-kfold-1-0.42735-f1-0.75148.pkl'\n",
    "#     '[XVAL]WEATHER-r2plus1d_18-model-cnn-112x112-fs-3-batch-4-seed-544-kfold-1-0.38909-f1-0.64901.pkl',\n",
    "#     '[XVAL]WEATHER-r2plus1d_18-model-cnn-112x112-fs-3-batch-4-seed-727-kfold-1-0.73567-f1-0.71571.pkl', \n",
    "#     '[XVAL]WEATHER-r2plus1d_18-model-cnn-224x224-fs-3-batch-8-seed-103-kfold-1-0.36766-f1-0.72513.pkl'\n",
    "    ############ 최종, low var, best f1 score ###########\n",
    "    '[XVAL]WEATHER-x3d_m-model-cnn-256x256-fs-3-batch-4-seed-950-kfold-1-0.42735-f1-0.75148.pkl', \n",
    "    '[XVAL]WEATHER-x3d_m-model-cnn-256x256-fs-3-batch-4-seed-919-kfold-1-0.44290-f1-0.74178.pkl',\n",
    "#     '[XVAL]WEATHER-x3d_m-model-cnn-256x256-fs-3-batch-4-seed-56-kfold-1-0.41836-f1-0.74313.pkl',\n",
    "#     '[XVAL]WEATHER-x3d_m-model-cnn-224x224-fs-3-batch-8-seed-271-kfold-1-0.40853-f1-0.72473.pkl',\n",
    "#     '[XVAL]WEATHER-x3d_m-model-cnn-256x256-fs-3-batch-4-seed-533-kfold-1-0.65048-f1-0.74602.pkl',\n",
    "#     '[XVAL]WEATHER-x3d_m-model-cnn-256x256-fs-3-batch-4-seed-288-kfold-1-0.43189-f1-0.74982.pkl',\n",
    "#     '[XVAL]WEATHER-x3d_m-model-cnn-224x224-fs-3-batch-8-seed-271-kfold-1-0.40853-f1-0.72473.pkl'\n",
    "#     '[XVAL]WEATHER-x3d_m-model-cnn-256x256-fs-3-batch-4-seed-999-kfold-1-0.49469-f1-0.74476.pkl'\n",
    "#     '[XVAL]WEATHER-r2plus1d_18-model-cnn-112x112-fs-3-batch-4-seed-727-kfold-1-0.73567-f1-0.71571.pkl',  \n",
    "#     '[XVAL]WEATHER-r2plus1d_18-model-cnn-112x112-fs-3-batch-4-seed-235-kfold-1-0.41059-f1-0.70845.pkl'\n",
    "#     '[XVAL]WEATHER-r2plus1d_18-model-cnn-112x112-fs-3-batch-4-seed-544-kfold-1-0.38909-f1-0.64901.pkl',\n",
    "#     '[XVAL]WEATHER-r2plus1d_18-model-cnn-112x112-fs-3-batch-4-seed-727-kfold-1-0.73567-f1-0.71571.pkl', \n",
    "#     '[XVAL]WEATHER-r2plus1d_18-model-cnn-224x224-fs-3-batch-8-seed-103-kfold-1-0.36766-f1-0.72513.pkl',\n",
    "#     '[XVAL]WEATHER-r2plus1d_18-model-cnn-112x112-fs-3-batch-4-seed-544-kfold-1-0.38909-f1-0.64901.pkl',\n",
    "#     '[XVAL]WEATHER-r2plus1d_18-model-cnn-112x112-fs-3-batch-4-seed-544-kfold-1-0.39231-f1-0.63086.pkl'\n",
    "#     '[XVAL]WEATHER-x3d_m-model-cnn-256x256-fs-3-batch-4-seed-899-kfold-1-0.43628-f1-0.73518.pkl',\n",
    "    '[XVAL]WEATHER-x3d_m-model-cnn-256x256-fs-3-batch-4-seed-533-kfold-1-0.65048-f1-0.74602.pkl',\n",
    "]\n",
    "\n",
    "timing_files = [\n",
    "#     'Timing-Classifier-V1-r2plus1d_18-255x255-cuda0-SEED-567-0.00935.pkl',\n",
    "#     'TIMING-Classifier-V1-r2plus1d_18-255x255-frameskip-2-batch-8-seed-567-0.00389.pkl',\n",
    "#     'TIMING-Classifier-V1-r2plus1d_18-255x255-frameskip-5-batch-8-seed-123-0.00103.pkl',\n",
    "#     'TIMING-Classifier-V1-r2plus1d_18-255x255-frameskip-2-batch-8-seed-123-0.14732.pkl', # 0.6569(best), 0.5213793652 (top) \n",
    "#     'TIMING-Classifier-V1-slow_r50-255x255-frameskip-1-batch-8-seed-135-epoch-3-loss-0.07839-f1-0.92541.pkl',\n",
    "#     'TIMING-Classifier-V1-r2plus1d_18-255x255-frameskip-2-batch-8-seed-123-0.01256.pkl'\n",
    "#     'TIMING-Classifier-V1-Base-255x255-frameskip-1-batch-8-seed-123-0.01445.pkl',\n",
    "#     'TIMING-Classifier-V1-Base-255x255-frameskip-1-batch-8-seed-2023-0.05520.pkl', \n",
    "#     'TIMING-Classifier-V1-EWT-255x255-frameskip-5-batch-4-seed-32-0.01543.pkl' # five-crop\n",
    "#     'TIMING-r2plus1d_18-heavy-model-cnn-255x255-frameskip-2-batch-4-seed-10-0.01495-f1-0.90054.pkl', # 0.6865544182(best), ensemble, # 0.6355532314\n",
    "#     'TIMING-r2plus1d_18-heavy-model-cnn-255x255-frameskip-2-batch-4-seed-0-0.01604-f1-0.89667.pkl', # 0.6865544182(best), ensemble, # 0.6355532314\n",
    "#     'TIMING-r2plus1d_18-resize-crop-model-cnn-112x112-frameskip-2-batch-4-seed-0-kfold-1-0.00008-f1-1.00000.pkl', # 0.684858525 (위에 두 모델과 앙상블시)\n",
    "#     'TIMING-tmp_model_default-model-cnn-112x112-frameskip-2-batch-4-seed-0-kfold-1-0.00173-f1-1.00000.pkl',       # 0.684858525\n",
    "#     'TIMING-r2plus1d_18-resize-crop-model-cnn-112x112-fs-3-batch-8-seed-222-kfold-1-0.11754-f1-0.90921.pkl', # 0.6818615702\n",
    "#     'TIMING-r2plus1d_18-resize-crop-model-cnn-112x112-fs-3-batch-8-seed-738-kfold-1-0.10456-f1-0.91360.pkl', # 0.6818615702\n",
    "#     '[XVAL]TIMING-r2plus1d_18-model-cnn-224x224-fs-3-batch-8-seed-9-kfold-1-0.06313-f1-0.89232.pkl',\n",
    "#     '[XVAL]TIMING-r2plus1d_18-model-cnn-112x112-fs-3-batch-8-seed-556-kfold-1-0.05055-f1-0.92142.pkl', #BEST \n",
    "#     '[XVAL]TIMING-r2plus1d_18-model-cnn-112x112-fs-3-batch-8-seed-930-kfold-1-0.02393-f1-0.91935.pkl', #BEST\n",
    "#     '[XVAL]TIMING-x3d_m-model-cnn-224x224-fs-3-batch-8-seed-480-kfold-1-0.05005-f1-0.91551.pkl',       #BEST\n",
    "    '[XVAL]TIMING-x3d_m-model-cnn-224x224-fs-3-batch-8-seed-961-kfold-1-0.05418-f1-0.91396.pkl',\n",
    "#     '[XVAL]TIMING-x3d_m-model-cnn-224x224-fs-3-batch-8-seed-768-kfold-1-0.04821-f1-0.89372.pkl',\n",
    "#     '[XVAL]TIMING-x3d_m-model-cnn-224x224-fs-3-batch-8-seed-294-kfold-1-0.05222-f1-0.90244.pkl',\n",
    "    '[XVAL]TIMING-x3d_m-model-cnn-224x224-fs-3-batch-8-seed-853-kfold-1-0.11027-f1-0.92667.pkl',\n",
    "    '[XVAL]TIMING-x3d_m-model-cnn-224x224-fs-3-batch-8-seed-432-kfold-1-0.11165-f1-0.91163.pkl'\n",
    "]"
   ]
  },
  {
   "cell_type": "code",
   "execution_count": 923,
   "id": "27b88296",
   "metadata": {},
   "outputs": [],
   "source": [
    "def normalize(data):\n",
    "    return (data - data.min()) / (data.max() - data.min())"
   ]
  },
  {
   "cell_type": "code",
   "execution_count": 924,
   "id": "d8f80372",
   "metadata": {},
   "outputs": [],
   "source": [
    "crash = np.zeros(shape=(1800, 2))\n",
    "\n",
    "for crash_file in crash_files:\n",
    "    c = load_pickle(os.path.join(PICKLE_DIR, crash_file))\n",
    "#     c = np.array(c)\n",
    "#     c = normalize(c)\n",
    "    c = np.array(c).mean(axis=0)\n",
    "    crash += c"
   ]
  },
  {
   "cell_type": "code",
   "execution_count": 925,
   "id": "b67030c1",
   "metadata": {},
   "outputs": [],
   "source": [
    "ego, weather, timing = np.zeros(shape=(1800, 2)), np.zeros(shape=(1800, 3)), np.zeros(shape=(1800, 2))\n",
    "\n",
    "for ego_file in ego_files:\n",
    "    e = load_pickle(os.path.join(PICKLE_DIR, ego_file))\n",
    "#     e = np.array(e)\n",
    "#     ego += normalize(e)\n",
    "    e = np.array(e).mean(axis=0)\n",
    "    ego += e\n",
    "    \n",
    "for weather_file in weather_files:\n",
    "    w = load_pickle(os.path.join(PICKLE_DIR, weather_file))\n",
    "\n",
    "    w = np.array(w).mean(axis=0)\n",
    "#     w = np.array(w)\n",
    "#     weather += normalize(w)\n",
    "    weather += w\n",
    "    \n",
    "for timing_file in timing_files:\n",
    "    t = load_pickle(os.path.join(PICKLE_DIR, timing_file))\n",
    "#     t = np.array(t)\n",
    "#     timing += normalize(t)\n",
    "    t = np.array(t).mean(axis=0)\n",
    "    timing += t"
   ]
  },
  {
   "cell_type": "code",
   "execution_count": 926,
   "id": "ea6bd067",
   "metadata": {},
   "outputs": [],
   "source": [
    "crash_pred = crash.argmax(1)\n",
    "ego_pred = ego.argmax(1)\n",
    "weather_pred = weather.argmax(1)\n",
    "timing_pred = timing.argmax(1)"
   ]
  },
  {
   "cell_type": "code",
   "execution_count": 927,
   "id": "e942b488",
   "metadata": {},
   "outputs": [
    {
     "data": {
      "text/plain": [
       "0    1456\n",
       "1     182\n",
       "2     162\n",
       "dtype: int64"
      ]
     },
     "execution_count": 927,
     "metadata": {},
     "output_type": "execute_result"
    }
   ],
   "source": [
    "# best 0.7175\n",
    "pd.Series(weather_pred).value_counts()"
   ]
  },
  {
   "cell_type": "code",
   "execution_count": 542,
   "id": "ddd83051",
   "metadata": {},
   "outputs": [],
   "source": [
    "# 0.7141\n",
    "# crash_norm = crash / 2\n",
    "# crash_pred = 1 - (crash_norm[:, 0] >= 0.9).astype(int)\n",
    "# pd.Series(crash_pred).value_counts()"
   ]
  },
  {
   "cell_type": "code",
   "execution_count": 707,
   "id": "1d21561b",
   "metadata": {},
   "outputs": [
    {
     "data": {
      "text/plain": [
       "0    1218\n",
       "1     582\n",
       "dtype: int64"
      ]
     },
     "execution_count": 707,
     "metadata": {},
     "output_type": "execute_result"
    }
   ],
   "source": [
    "# best\n",
    "pd.Series(crash_pred).value_counts()"
   ]
  },
  {
   "cell_type": "code",
   "execution_count": 833,
   "id": "d2b4b3fc",
   "metadata": {},
   "outputs": [
    {
     "data": {
      "text/plain": [
       "0    1218\n",
       "1     582\n",
       "dtype: int64"
      ]
     },
     "execution_count": 833,
     "metadata": {},
     "output_type": "execute_result"
    }
   ],
   "source": [
    "# trial\n",
    "pd.Series(crash_pred).value_counts()"
   ]
  },
  {
   "cell_type": "code",
   "execution_count": 708,
   "id": "3a17b066",
   "metadata": {},
   "outputs": [
    {
     "data": {
      "text/plain": [
       "1    1345\n",
       "0     455\n",
       "dtype: int64"
      ]
     },
     "execution_count": 708,
     "metadata": {},
     "output_type": "execute_result"
    }
   ],
   "source": [
    "# best\n",
    "pd.Series(ego_pred).value_counts()"
   ]
  },
  {
   "cell_type": "code",
   "execution_count": 834,
   "id": "edeecbe1",
   "metadata": {},
   "outputs": [
    {
     "data": {
      "text/plain": [
       "1    1345\n",
       "0     455\n",
       "dtype: int64"
      ]
     },
     "execution_count": 834,
     "metadata": {},
     "output_type": "execute_result"
    }
   ],
   "source": [
    "# trial\n",
    "pd.Series(ego_pred).value_counts()"
   ]
  },
  {
   "cell_type": "code",
   "execution_count": 862,
   "id": "bea935fd",
   "metadata": {},
   "outputs": [
    {
     "data": {
      "text/plain": [
       "0    1463\n",
       "1     174\n",
       "2     163\n",
       "dtype: int64"
      ]
     },
     "execution_count": 862,
     "metadata": {},
     "output_type": "execute_result"
    }
   ],
   "source": [
    "# best 0.7175\n",
    "pd.Series(weather_pred).value_counts()"
   ]
  },
  {
   "cell_type": "code",
   "execution_count": 762,
   "id": "882b5471",
   "metadata": {},
   "outputs": [
    {
     "data": {
      "text/plain": [
       "0    1531\n",
       "1     145\n",
       "2     124\n",
       "dtype: int64"
      ]
     },
     "execution_count": 762,
     "metadata": {},
     "output_type": "execute_result"
    }
   ],
   "source": [
    "# trial (best 0.7175)\n",
    "strong_normal = (wn[:,0] > 0.95).astype(int)\n",
    "strong_normal = 1 - strong_normal\n",
    "weather_pred = pd.Series(weather_pred * strong_normal)\n",
    "weather_pred.value_counts()"
   ]
  },
  {
   "cell_type": "code",
   "execution_count": 716,
   "id": "260c5613",
   "metadata": {},
   "outputs": [
    {
     "data": {
      "text/plain": [
       "0    1254\n",
       "2     315\n",
       "1     231\n",
       "dtype: int64"
      ]
     },
     "execution_count": 716,
     "metadata": {},
     "output_type": "execute_result"
    }
   ],
   "source": [
    "# trial\n",
    "pd.Series(weather_pred).value_counts()"
   ]
  },
  {
   "cell_type": "code",
   "execution_count": 358,
   "id": "b57f1fb6",
   "metadata": {},
   "outputs": [
    {
     "data": {
      "text/plain": [
       "0    1396\n",
       "2     215\n",
       "1     189\n",
       "dtype: int64"
      ]
     },
     "execution_count": 358,
     "metadata": {},
     "output_type": "execute_result"
    }
   ],
   "source": [
    "# trial\n",
    "strong_normal = (wn[:,0] > 0.95).astype(int)\n",
    "strong_normal = 1 - strong_normal\n",
    "weather_pred = pd.Series(weather_pred * strong_normal)\n",
    "weather_pred.value_counts()"
   ]
  },
  {
   "cell_type": "code",
   "execution_count": 2097,
   "id": "0f5864ae",
   "metadata": {},
   "outputs": [
    {
     "data": {
      "text/plain": [
       "0    1403\n",
       "2     217\n",
       "1     180\n",
       "dtype: int64"
      ]
     },
     "execution_count": 2097,
     "metadata": {},
     "output_type": "execute_result"
    }
   ],
   "source": [
    "pd.Series(weather_pred).value_counts()"
   ]
  },
  {
   "cell_type": "code",
   "execution_count": 1976,
   "id": "3b2a2092",
   "metadata": {},
   "outputs": [
    {
     "data": {
      "text/plain": [
       "0    1395\n",
       "2     222\n",
       "1     183\n",
       "dtype: int64"
      ]
     },
     "execution_count": 1976,
     "metadata": {},
     "output_type": "execute_result"
    }
   ],
   "source": [
    "# best 0.6832\n",
    "pd.Series(weather_pred).value_counts()"
   ]
  },
  {
   "cell_type": "code",
   "execution_count": 1311,
   "id": "c265781b",
   "metadata": {},
   "outputs": [
    {
     "data": {
      "text/plain": [
       "0    1446\n",
       "2     190\n",
       "1     164\n",
       "dtype: int64"
      ]
     },
     "execution_count": 1311,
     "metadata": {},
     "output_type": "execute_result"
    }
   ],
   "source": [
    "# trial 0.6229\n",
    "pd.Series(weather_pred).value_counts()"
   ]
  },
  {
   "cell_type": "code",
   "execution_count": 1501,
   "id": "bd7f05b4",
   "metadata": {},
   "outputs": [
    {
     "data": {
      "text/plain": [
       "0    1421\n",
       "2     210\n",
       "1     169\n",
       "dtype: int64"
      ]
     },
     "execution_count": 1501,
     "metadata": {},
     "output_type": "execute_result"
    }
   ],
   "source": [
    "# trial (wn + wsr) 4\n",
    "pd.Series(weather_pred).value_counts()"
   ]
  },
  {
   "cell_type": "code",
   "execution_count": 1516,
   "id": "05e3d9d3",
   "metadata": {},
   "outputs": [
    {
     "data": {
      "text/plain": [
       "0    1467\n",
       "2     176\n",
       "1     157\n",
       "dtype: int64"
      ]
     },
     "execution_count": 1516,
     "metadata": {},
     "output_type": "execute_result"
    }
   ],
   "source": [
    "# trial (wn + wsr) 5\n",
    "pd.Series(weather_pred).value_counts()"
   ]
  },
  {
   "cell_type": "code",
   "execution_count": 1480,
   "id": "364acce0",
   "metadata": {},
   "outputs": [
    {
     "data": {
      "text/plain": [
       "0    1395\n",
       "2     223\n",
       "1     182\n",
       "dtype: int64"
      ]
     },
     "execution_count": 1480,
     "metadata": {},
     "output_type": "execute_result"
    }
   ],
   "source": [
    "# trial\n",
    "pd.Series(weather_pred).value_counts()"
   ]
  },
  {
   "cell_type": "code",
   "execution_count": 236,
   "id": "b6635fe9",
   "metadata": {},
   "outputs": [
    {
     "data": {
      "text/plain": [
       "0    1421\n",
       "2     202\n",
       "1     177\n",
       "dtype: int64"
      ]
     },
     "execution_count": 236,
     "metadata": {},
     "output_type": "execute_result"
    }
   ],
   "source": [
    "# trial\n",
    "pd.Series(weather_pred).value_counts()"
   ]
  },
  {
   "cell_type": "code",
   "execution_count": 1435,
   "id": "5135f54c",
   "metadata": {},
   "outputs": [
    {
     "data": {
      "text/plain": [
       "0    1225\n",
       "1     288\n",
       "2     287\n",
       "dtype: int64"
      ]
     },
     "execution_count": 1435,
     "metadata": {},
     "output_type": "execute_result"
    }
   ],
   "source": [
    "# trial (wn + wsr)\n",
    "pd.Series(weather_pred).value_counts()"
   ]
  },
  {
   "cell_type": "code",
   "execution_count": 1451,
   "id": "8dc0377d",
   "metadata": {},
   "outputs": [
    {
     "data": {
      "text/plain": [
       "0    1316\n",
       "2     255\n",
       "1     229\n",
       "dtype: int64"
      ]
     },
     "execution_count": 1451,
     "metadata": {},
     "output_type": "execute_result"
    }
   ],
   "source": [
    "# trial (wn + wsr) 2\n",
    "pd.Series(weather_pred).value_counts()"
   ]
  },
  {
   "cell_type": "code",
   "execution_count": 1475,
   "id": "85f96fdd",
   "metadata": {},
   "outputs": [
    {
     "data": {
      "text/plain": [
       "0    1316\n",
       "2     280\n",
       "1     204\n",
       "dtype: int64"
      ]
     },
     "execution_count": 1475,
     "metadata": {},
     "output_type": "execute_result"
    }
   ],
   "source": [
    "# trial (wn + wsr) 3\n",
    "pd.Series(weather_pred).value_counts()"
   ]
  },
  {
   "cell_type": "code",
   "execution_count": 2201,
   "id": "aa9d7189",
   "metadata": {},
   "outputs": [
    {
     "data": {
      "text/plain": [
       "0    1395\n",
       "2     222\n",
       "1     183\n",
       "dtype: int64"
      ]
     },
     "execution_count": 2201,
     "metadata": {},
     "output_type": "execute_result"
    }
   ],
   "source": [
    "# trial\n",
    "pd.Series(weather_pred).value_counts()"
   ]
  },
  {
   "cell_type": "code",
   "execution_count": 177,
   "id": "4cce0822",
   "metadata": {},
   "outputs": [
    {
     "data": {
      "text/plain": [
       "0    1142\n",
       "1     658\n",
       "dtype: int64"
      ]
     },
     "execution_count": 177,
     "metadata": {},
     "output_type": "execute_result"
    }
   ],
   "source": [
    "# best\n",
    "pd.Series(timing_pred).value_counts()"
   ]
  },
  {
   "cell_type": "code",
   "execution_count": 717,
   "id": "6becc0e1",
   "metadata": {},
   "outputs": [
    {
     "data": {
      "text/plain": [
       "0    1142\n",
       "1     658\n",
       "dtype: int64"
      ]
     },
     "execution_count": 717,
     "metadata": {},
     "output_type": "execute_result"
    }
   ],
   "source": [
    "# trial\n",
    "pd.Series(timing_pred).value_counts()"
   ]
  },
  {
   "cell_type": "code",
   "execution_count": 928,
   "id": "cc6204c3",
   "metadata": {},
   "outputs": [],
   "source": [
    "pred_df = pd.DataFrame({\n",
    "    'crash': crash_pred,\n",
    "    'ego': ego_pred,\n",
    "    'weather': weather_pred, \n",
    "    'timing': timing_pred\n",
    "})"
   ]
  },
  {
   "cell_type": "code",
   "execution_count": 930,
   "id": "37640ccc",
   "metadata": {},
   "outputs": [
    {
     "data": {
      "text/plain": [
       "<BarContainer object of 13 artists>"
      ]
     },
     "execution_count": 930,
     "metadata": {},
     "output_type": "execute_result"
    },
    {
     "data": {
      "image/png": "[encoded data removed]",
      "text/plain": [
       "<Figure size 640x480 with 1 Axes>"
      ]
     },
     "metadata": {},
     "output_type": "display_data"
    }
   ],
   "source": [
    "original = pd.read_csv(os.path.join('data', 'train.csv'))\n",
    "original['label'].value_counts(1).sort_index()\n",
    "plt.bar(x = np.arange(13), height=original['label'].value_counts(1).sort_index())"
   ]
  },
  {
   "cell_type": "code",
   "execution_count": 931,
   "id": "b1f6cf88",
   "metadata": {},
   "outputs": [
    {
     "data": {
      "text/plain": [
       "0     0.676667\n",
       "7     0.119444\n",
       "1     0.096667\n",
       "3     0.038889\n",
       "9     0.013889\n",
       "11    0.012222\n",
       "2     0.011111\n",
       "8     0.010000\n",
       "5     0.007222\n",
       "4     0.007222\n",
       "6     0.003889\n",
       "10    0.001667\n",
       "12    0.001111\n",
       "dtype: float64"
      ]
     },
     "execution_count": 931,
     "metadata": {},
     "output_type": "execute_result"
    }
   ],
   "source": [
    "pred = pred_df['crash'] * (pred_df['ego']*6 + pred_df['weather']*2 + pred_df['timing'] + 1)\n",
    "pred.value_counts(1)"
   ]
  },
  {
   "cell_type": "code",
   "execution_count": 932,
   "id": "4d71ef80",
   "metadata": {},
   "outputs": [
    {
     "data": {
      "text/plain": [
       "(0.0, 0.15)"
      ]
     },
     "execution_count": 932,
     "metadata": {},
     "output_type": "execute_result"
    },
    {
     "data": {
      "image/png": "[encoded data removed]",
      "text/plain": [
       "<Figure size 1000x400 with 2 Axes>"
      ]
     },
     "metadata": {},
     "output_type": "display_data"
    }
   ],
   "source": [
    "fig, axes = plt.subplots(1, 2)\n",
    "fig.set_size_inches(10, 4)\n",
    "axes[0].bar(x=np.arange(13), height=pred.value_counts(1).sort_index())\n",
    "axes[1].bar(x=np.arange(13), height=original['label'].value_counts(1).sort_index())\n",
    "axes[0].set_ylim(0,0.15)\n",
    "axes[1].set_ylim(0,0.15)"
   ]
  },
  {
   "cell_type": "code",
   "execution_count": 933,
   "id": "a042f331",
   "metadata": {},
   "outputs": [
    {
     "data": {
      "text/html": [
       "<div>\n",
       "<style scoped>\n",
       "    .dataframe tbody tr th:only-of-type {\n",
       "        vertical-align: middle;\n",
       "    }\n",
       "\n",
       "    .dataframe tbody tr th {\n",
       "        vertical-align: top;\n",
       "    }\n",
       "\n",
       "    .dataframe thead th {\n",
       "        text-align: right;\n",
       "    }\n",
       "</style>\n",
       "<table border=\"1\" class=\"dataframe\">\n",
       "  <thead>\n",
       "    <tr style=\"text-align: right;\">\n",
       "      <th></th>\n",
       "      <th>sample_id</th>\n",
       "      <th>label</th>\n",
       "    </tr>\n",
       "  </thead>\n",
       "  <tbody>\n",
       "    <tr>\n",
       "      <th>0</th>\n",
       "      <td>TEST_0000</td>\n",
       "      <td>0</td>\n",
       "    </tr>\n",
       "    <tr>\n",
       "      <th>1</th>\n",
       "      <td>TEST_0001</td>\n",
       "      <td>0</td>\n",
       "    </tr>\n",
       "    <tr>\n",
       "      <th>2</th>\n",
       "      <td>TEST_0002</td>\n",
       "      <td>0</td>\n",
       "    </tr>\n",
       "    <tr>\n",
       "      <th>3</th>\n",
       "      <td>TEST_0003</td>\n",
       "      <td>0</td>\n",
       "    </tr>\n",
       "    <tr>\n",
       "      <th>4</th>\n",
       "      <td>TEST_0004</td>\n",
       "      <td>0</td>\n",
       "    </tr>\n",
       "  </tbody>\n",
       "</table>\n",
       "</div>"
      ],
      "text/plain": [
       "   sample_id  label\n",
       "0  TEST_0000      0\n",
       "1  TEST_0001      0\n",
       "2  TEST_0002      0\n",
       "3  TEST_0003      0\n",
       "4  TEST_0004      0"
      ]
     },
     "execution_count": 933,
     "metadata": {},
     "output_type": "execute_result"
    }
   ],
   "source": [
    "# 제출 양식 로드\n",
    "submit = pd.read_csv(os.path.join(DATA_DIR, 'sample_submission.csv'))\n",
    "# 정답 기입\n",
    "submit['label'] = pred\n",
    "submit.head()"
   ]
  },
  {
   "cell_type": "code",
   "execution_count": 935,
   "id": "436f54bc",
   "metadata": {},
   "outputs": [
    {
     "data": {
      "text/plain": [
       "0     1218\n",
       "1      174\n",
       "2       20\n",
       "3       70\n",
       "4       13\n",
       "5       13\n",
       "6        7\n",
       "7      215\n",
       "8       18\n",
       "9       25\n",
       "10       3\n",
       "11      22\n",
       "12       2\n",
       "Name: label, dtype: int64"
      ]
     },
     "execution_count": 935,
     "metadata": {},
     "output_type": "execute_result"
    }
   ],
   "source": [
    "submit['label'].value_counts().sort_index()"
   ]
  },
  {
   "cell_type": "code",
   "execution_count": 937,
   "id": "080a7ed4",
   "metadata": {},
   "outputs": [
    {
     "name": "stdout",
     "output_type": "stream",
     "text": [
      "submit/20230312-174515-submit-04-V1.csv\n",
      "Saved.\n"
     ]
    }
   ],
   "source": [
    "# csv 생성\n",
    "timestring = datetime.now().strftime('%Y%m%d-%H%M%S')\n",
    "filename = f'{timestring}-{SUBMIT_FILENAME}.csv'\n",
    "f_name = os.path.join(SUBMISSION_DIR, filename)\n",
    "print(f_name)\n",
    "submit.to_csv(f_name, index=False)\n",
    "print('Saved.')"
   ]
  }
 ],
 "metadata": {
  "kernelspec": {
   "display_name": "Python 3 (ipykernel)",
   "language": "python",
   "name": "python3"
  },
  "language_info": {
   "codemirror_mode": {
    "name": "ipython",
    "version": 3
   },
   "file_extension": ".py",
   "mimetype": "text/x-python",
   "name": "python",
   "nbconvert_exporter": "python",
   "pygments_lexer": "ipython3",
   "version": "3.8.16"
  }
 },
 "nbformat": 4,
 "nbformat_minor": 5
}
